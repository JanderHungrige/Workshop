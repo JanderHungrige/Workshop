{
 "cells": [
  {
   "cell_type": "markdown",
   "metadata": {},
   "source": [
    "# Create simple CNN network"
   ]
  },
  {
   "cell_type": "markdown",
   "metadata": {},
   "source": [
    "Import all important libraries"
   ]
  },
  {
   "cell_type": "code",
   "execution_count": 9,
   "metadata": {
    "scrolled": true
   },
   "outputs": [],
   "source": [
    "import tensorflow as tf\n",
    "from tensorflow import keras\n",
    "import keras.backend as K\n",
    "\n",
    "# Import stuff fof preprocessing\n",
    "from keras.preprocessing.image import ImageDataGenerator\n",
    "\n",
    "# Import stuff for model generation\n",
    "from keras.models import Sequential\n",
    "from keras.layers import Activation \n",
    "from keras.layers.core import Dense, Flatten\n",
    "from keras.layers import BatchNormalization\n",
    "from keras.layers.convolutional import *\n",
    "from keras.optimizers import Adam\n",
    "\n",
    "#Improt stuff for model performance analysys\n",
    "from keras.metrics import categorical_crossentropy\n",
    "from sklearn.metrics import confusion_matrix\n",
    "\n",
    "#Import other tools\n",
    "import numpy as np # nice library to work with data arrays and matrices \n",
    "import itertools # loop optimizing tool. It creates itterators\n",
    "import matplotlib.pyplot as plt # library for plotting graphs\n",
    "# tell the plot to not open a seperate windows for each plot. # The % commands are called magic commands.\n",
    "%matplotlib inline \n",
    "from PIL import Image # used for loading images\n",
    "import os # used for navigating to image path. Os is generally for operating in the operation system (does not matter which one)\n"
   ]
  },
  {
   "cell_type": "markdown",
   "metadata": {},
   "source": [
    "Load the IDmap from the CSV file and create a dictionarry from it"
   ]
  },
  {
   "cell_type": "code",
   "execution_count": 3,
   "metadata": {},
   "outputs": [],
   "source": [
    "IDmap = {} # id: hand gesture\n",
    "f = open(\"IDmapping.csv\", \"r\") # open the csv file\n",
    "fileContents = f.read() #reading the content\n",
    "fileContents = fileContents.split('\\n') # splitting the content at the line break \\n and saving it into a list\n",
    "for i in range(len(fileContents)-1):\n",
    "  fileContents[i] = fileContents[i].split(',') # splitting each list entry at the ,\n",
    "  IDmap[fileContents[i][0]] = fileContents[i][1] #create dictionary with map ID"
   ]
  },
  {
   "cell_type": "markdown",
   "metadata": {},
   "source": [
    "Now we have to point to our structured data.  All data file paths on kaggle start with the root directory ../input. for example the file path to the train data in this kernel will be ../input/train"
   ]
  },
  {
   "cell_type": "markdown",
   "metadata": {},
   "source": [
    "We will load data from the path in batches. Depending of the size of the data we could load it all at once and write it into an numpy array or pandas dataframe but as many examples in the image recognition field are huge, loading in batches "
   ]
  },
  {
   "cell_type": "code",
   "execution_count": null,
   "metadata": {},
   "outputs": [],
   "source": [
    "train_batch=ImageDataGenerator().flow_from_directory()"
   ]
  },
  {
   "cell_type": "raw",
   "metadata": {},
   "source": []
  }
 ],
 "metadata": {
  "kernelspec": {
   "display_name": "Python 3",
   "language": "python",
   "name": "python3"
  },
  "language_info": {
   "codemirror_mode": {
    "name": "ipython",
    "version": 3
   },
   "file_extension": ".py",
   "mimetype": "text/x-python",
   "name": "python",
   "nbconvert_exporter": "python",
   "pygments_lexer": "ipython3",
   "version": "3.7.3"
  },
  "toc": {
   "base_numbering": 1,
   "nav_menu": {},
   "number_sections": true,
   "sideBar": true,
   "skip_h1_title": false,
   "title_cell": "Table of Contents",
   "title_sidebar": "Contents",
   "toc_cell": false,
   "toc_position": {},
   "toc_section_display": true,
   "toc_window_display": false
  },
  "varInspector": {
   "cols": {
    "lenName": 16,
    "lenType": 16,
    "lenVar": 40
   },
   "kernels_config": {
    "python": {
     "delete_cmd_postfix": "",
     "delete_cmd_prefix": "del ",
     "library": "var_list.py",
     "varRefreshCmd": "print(var_dic_list())"
    },
    "r": {
     "delete_cmd_postfix": ") ",
     "delete_cmd_prefix": "rm(",
     "library": "var_list.r",
     "varRefreshCmd": "cat(var_dic_list()) "
    }
   },
   "position": {
    "height": "313px",
    "left": "1553px",
    "right": "19px",
    "top": "120px",
    "width": "350px"
   },
   "types_to_exclude": [
    "module",
    "function",
    "builtin_function_or_method",
    "instance",
    "_Feature"
   ],
   "window_display": true
  }
 },
 "nbformat": 4,
 "nbformat_minor": 2
}
