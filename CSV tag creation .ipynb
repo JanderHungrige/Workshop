{
 "cells": [
  {
   "cell_type": "markdown",
   "metadata": {},
   "source": [
    "Intro"
   ]
  },
  {
   "cell_type": "markdown",
   "metadata": {},
   "source": [
    "## Create Image annotation CSV"
   ]
  },
  {
   "cell_type": "markdown",
   "metadata": {},
   "source": [
    "First we Load the images from the folders into a list. Then also create a list with tags belonging to the image. Here 1 for closed hand and 2 for open hand"
   ]
  },
  {
   "cell_type": "code",
   "execution_count": 33,
   "metadata": {},
   "outputs": [],
   "source": [
    "import os\n",
    "import csv #provides functionality to both read from and write to CSV files. Designed to work out of the box with Excel-generated CSV files\n",
    "import pandas as pd #pandas is a great data handling library\n",
    "\n",
    "root_dir = \"T:/werth/Messe/haende/small/\"  # Path relative to current dir (os.getcwd())\n",
    "folder1 = \"Faust\"\n",
    "folder2 = \"Offen\"\n",
    "\n",
    "#os.listdir(root_dir + folder)  # List all the items in root_dir\n",
    "Faust=[item for item in os.listdir(root_dir+ folder1) if os.path.isfile(os.path.join(root_dir+ folder1, item))]  # Filter items and only keep files (strip out directories)\n",
    "Offen=[item for item in os.listdir(root_dir+ folder2) if os.path.isfile(os.path.join(root_dir+ folder2, item))]  # Filter items and only keep files (strip out directories)\n",
    "\n",
    "Faust=[root_dir + s for s in Faust] # Adding the root path to the image name to create a full path\n",
    "Offen=[root_dir + s for s in Offen]\n",
    "\n",
    "Annot1= [1] * len(Faust) # Same length list with annotation key\n",
    "Annot2= [2] * len(Offen)\n",
    "\n"
   ]
  },
  {
   "cell_type": "markdown",
   "metadata": {},
   "source": [
    "Then we ceate a data frame with pandas in the way we want the image and tags merged. In this case we need the format: Imagepath,tag\n",
    "\n"
   ]
  },
  {
   "cell_type": "code",
   "execution_count": 34,
   "metadata": {},
   "outputs": [],
   "source": [
    "df1= pd.DataFrame(list(zip(*[Faust,Annot1]))).add_prefix('Col_')\n",
    "df2= pd.DataFrame(list(zip(*[Offen,Annot2]))).add_prefix('Col_')\n",
    "\n",
    "frames = [df1,df2]   # Merge list \n",
    "F_and_A = pd.concat(frames, sort=False) #Merge into the pandas dataframe\n",
    "\n",
    "F_and_A.to_csv('Hand_Annotations.csv', index=False, header=False) # Write to CSV file\n",
    "\n",
    "#print(frames)"
   ]
  },
  {
   "cell_type": "markdown",
   "metadata": {},
   "source": [
    "Alternaternatively we could also create an dictionary :\n"
   ]
  },
  {
   "cell_type": "code",
   "execution_count": 71,
   "metadata": {},
   "outputs": [],
   "source": [
    "d1 = dict(zip(Faust,Annot1)) # Create dict from data list and annotaions keys\n",
    "d2 = dict(zip(Offen,Annot2))\n",
    "d = {**d1, **d2} #Merge both dicts. Attention, if the keys have the same name, they will be overwritten by (here) d2"
   ]
  },
  {
   "cell_type": "markdown",
   "metadata": {},
   "source": [
    "But the transformation is not as straight forward as with pandas to_csv"
   ]
  },
  {
   "cell_type": "markdown",
   "metadata": {},
   "source": [
    "## Create ID mapping CSV"
   ]
  },
  {
   "cell_type": "markdown",
   "metadata": {},
   "source": [
    "Now we create another CSV file which maps the tag od ID to a annotation. First create a simple dict to wit the key and values as ID mapping and then transfer that again into CSV"
   ]
  },
  {
   "cell_type": "code",
   "execution_count": 17,
   "metadata": {},
   "outputs": [],
   "source": [
    "df3 = {'Faust': [1], 'Offen': [2]} #regular dict with the annotation mapping\n",
    "df3 = pd.DataFrame.from_dict(data=df3,orient='index') #convert to a pandas dataframe for easy conversion into CSV\n",
    "df3.to_csv('IDmapping.csv', index=True, header=False) # Write to CSV file (Can also just be added in the line before with: ...).to_csv(...))"
   ]
  }
 ],
 "metadata": {
  "kernelspec": {
   "display_name": "Python 3",
   "language": "python",
   "name": "python3"
  },
  "language_info": {
   "codemirror_mode": {
    "name": "ipython",
    "version": 3
   },
   "file_extension": ".py",
   "mimetype": "text/x-python",
   "name": "python",
   "nbconvert_exporter": "python",
   "pygments_lexer": "ipython3",
   "version": "3.5.6"
  },
  "varInspector": {
   "cols": {
    "lenName": 16,
    "lenType": 16,
    "lenVar": 40
   },
   "kernels_config": {
    "python": {
     "delete_cmd_postfix": "",
     "delete_cmd_prefix": "del ",
     "library": "var_list.py",
     "varRefreshCmd": "print(var_dic_list())"
    },
    "r": {
     "delete_cmd_postfix": ") ",
     "delete_cmd_prefix": "rm(",
     "library": "var_list.r",
     "varRefreshCmd": "cat(var_dic_list()) "
    }
   },
   "position": {
    "height": "268px",
    "left": "1376px",
    "right": "-8px",
    "top": "100px",
    "width": "554px"
   },
   "types_to_exclude": [
    "module",
    "function",
    "builtin_function_or_method",
    "instance",
    "_Feature"
   ],
   "window_display": false
  }
 },
 "nbformat": 4,
 "nbformat_minor": 2
}
