{
 "cells": [
  {
   "cell_type": "markdown",
   "metadata": {},
   "source": [
    "# Info \n",
    "###### This Notebook \n",
    "- Resize images to 256x256\n",
    "- Create new images with cutout and baclground\n",
    "- Create Annotation\n"
   ]
  },
  {
   "cell_type": "markdown",
   "metadata": {},
   "source": [
    "# Loading images - Rezising imgages"
   ]
  },
  {
   "cell_type": "code",
   "execution_count": 8,
   "metadata": {},
   "outputs": [],
   "source": [
    "from PIL import Image\n",
    "from multiprocessing import Pool\n",
    "import os"
   ]
  },
  {
   "cell_type": "code",
   "execution_count": 21,
   "metadata": {},
   "outputs": [],
   "source": [
    "mainpath= 'T:/werth/Messe/hände/' #Pfad zu den Bilder Ordnern\n",
    "\n",
    "folder= 'backgrounds/' #Offen oder Faust, backgrounds\n",
    "\n",
    "folder2='small/' #Savefolder\n",
    "\n",
    "removing=0\n",
    "Pfad= mainpath+folder\n",
    "savePfad=mainpath+folder2+folder\n",
    "\n",
    "if not os.path.exists(savePfad): #Create the path if it does not exist\n",
    "    os.makedirs(savePfad)"
   ]
  },
  {
   "cell_type": "code",
   "execution_count": 22,
   "metadata": {},
   "outputs": [],
   "source": [
    "listing = os.listdir(Pfad)    \n",
    "basewidth = 512 #256\n",
    "\n",
    "for file in listing:\n",
    "    img = Image.open(Pfad + file)    \n",
    "    wpercent = (basewidth / float(img.size[0]))\n",
    "    hsize = int((float(img.size[1]) * float(wpercent)))\n",
    "    img = img.resize((basewidth, hsize), Image.ANTIALIAS)\n",
    "    img.save(savePfad + file, \"JPEG\")\n",
    "    if removing:\n",
    "        os.remove(Pfad + file)"
   ]
  },
  {
   "cell_type": "markdown",
   "metadata": {},
   "source": [
    "# Checking file size manually"
   ]
  },
  {
   "cell_type": "code",
   "execution_count": 18,
   "metadata": {},
   "outputs": [
    {
     "name": "stdout",
     "output_type": "stream",
     "text": [
      "255 170\n",
      "255 170\n",
      "255 170\n",
      "255 170\n",
      "255 170\n",
      "255 170\n",
      "255 170\n",
      "255 170\n",
      "255 170\n",
      "255 170\n",
      "255 170\n",
      "255 170\n",
      "255 170\n",
      "255 170\n",
      "255 170\n",
      "255 170\n",
      "255 170\n",
      "255 170\n",
      "255 170\n",
      "255 170\n",
      "255 170\n",
      "255 170\n",
      "255 170\n",
      "255 170\n",
      "255 170\n",
      "255 170\n",
      "255 170\n",
      "255 170\n",
      "255 170\n",
      "255 170\n",
      "255 170\n",
      "255 170\n",
      "255 170\n",
      "255 170\n",
      "255 170\n",
      "255 170\n",
      "255 170\n",
      "255 170\n",
      "255 170\n",
      "255 170\n",
      "255 170\n",
      "255 170\n",
      "255 170\n",
      "255 170\n",
      "255 170\n",
      "255 170\n",
      "255 170\n",
      "255 170\n",
      "255 170\n",
      "255 170\n",
      "255 170\n",
      "255 170\n",
      "255 170\n",
      "255 170\n",
      "255 170\n",
      "255 170\n",
      "255 170\n",
      "255 170\n",
      "255 170\n",
      "255 170\n",
      "255 170\n",
      "255 170\n",
      "255 170\n",
      "255 170\n",
      "255 170\n",
      "255 170\n",
      "255 170\n",
      "255 170\n",
      "255 170\n",
      "255 170\n",
      "255 170\n",
      "255 170\n",
      "255 170\n",
      "255 170\n",
      "255 170\n",
      "255 170\n",
      "255 170\n",
      "255 170\n",
      "255 170\n",
      "255 170\n",
      "255 170\n",
      "255 170\n",
      "255 170\n",
      "255 170\n",
      "255 170\n",
      "255 170\n",
      "255 170\n",
      "255 170\n",
      "255 170\n",
      "255 170\n",
      "255 170\n",
      "255 170\n",
      "255 170\n",
      "255 170\n",
      "255 170\n",
      "255 170\n",
      "255 170\n",
      "255 170\n",
      "255 170\n",
      "255 170\n",
      "255 170\n",
      "255 170\n",
      "255 170\n",
      "255 170\n",
      "255 170\n",
      "255 170\n",
      "255 170\n",
      "255 170\n",
      "255 170\n",
      "255 170\n",
      "255 170\n",
      "255 170\n",
      "255 170\n",
      "255 170\n",
      "255 170\n",
      "255 170\n",
      "255 170\n",
      "255 170\n",
      "255 170\n",
      "255 170\n",
      "255 170\n"
     ]
    }
   ],
   "source": [
    "Pfad='C:/Users/werth/Pictures/small_structured/input/Train/Faust/'\n",
    "# Pfad='C:/Users/werth/Pictures/small_structured/input/Train/Offen/'\n",
    "# Pfad='C:/Users/werth/Pictures/small_structured/input/Test/Faust/'\n",
    "# Pfad='C:/Users/werth/Pictures/small_structured/input/Test/Offen/'\n",
    "\n",
    "listing = os.listdir(Pfad)\n",
    "for file in listing:\n",
    "    im = Image.open(Pfad + file)\n",
    "    width, height = im.size\n",
    "    print(width,height)"
   ]
  }
 ],
 "metadata": {
  "kernelspec": {
   "display_name": "Python 3",
   "language": "python",
   "name": "python3"
  },
  "language_info": {
   "codemirror_mode": {
    "name": "ipython",
    "version": 3
   },
   "file_extension": ".py",
   "mimetype": "text/x-python",
   "name": "python",
   "nbconvert_exporter": "python",
   "pygments_lexer": "ipython3",
   "version": "3.7.3"
  },
  "toc": {
   "base_numbering": 1,
   "nav_menu": {},
   "number_sections": true,
   "sideBar": true,
   "skip_h1_title": false,
   "title_cell": "Table of Contents",
   "title_sidebar": "Contents",
   "toc_cell": false,
   "toc_position": {},
   "toc_section_display": true,
   "toc_window_display": false
  },
  "varInspector": {
   "cols": {
    "lenName": 16,
    "lenType": 16,
    "lenVar": 40
   },
   "kernels_config": {
    "python": {
     "delete_cmd_postfix": "",
     "delete_cmd_prefix": "del ",
     "library": "var_list.py",
     "varRefreshCmd": "print(var_dic_list())"
    },
    "r": {
     "delete_cmd_postfix": ") ",
     "delete_cmd_prefix": "rm(",
     "library": "var_list.r",
     "varRefreshCmd": "cat(var_dic_list()) "
    }
   },
   "types_to_exclude": [
    "module",
    "function",
    "builtin_function_or_method",
    "instance",
    "_Feature"
   ],
   "window_display": false
  }
 },
 "nbformat": 4,
 "nbformat_minor": 2
}
