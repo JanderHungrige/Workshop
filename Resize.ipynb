{
 "cells": [
  {
   "cell_type": "markdown",
   "metadata": {},
   "source": [
    "# Info \n",
    "###### This Notebook \n",
    "- crop original image to rectangle\n",
    "- Resize images to 256x256\n",
    "---\n",
    "\n",
    "- Resize background and foreground\n",
    "- Create new images with cutout and background\n",
    "- Create Annotation\n"
   ]
  },
  {
   "cell_type": "markdown",
   "metadata": {},
   "source": [
    "# Loading images - Rezising imgages"
   ]
  },
  {
   "cell_type": "code",
   "execution_count": 8,
   "metadata": {},
   "outputs": [],
   "source": [
    "from PIL import Image\n",
    "from multiprocessing import Pool\n",
    "import os\n",
    "import matplotlib.pyplot as plt\n",
    "import matplotlib.image as mpimg\n",
    "from IPython.display import clear_output"
   ]
  },
  {
   "cell_type": "markdown",
   "metadata": {},
   "source": [
    "## For using original images\n",
    "First Crop the image that we get a rectangel as most pretrained networks work with rectangles"
   ]
  },
  {
   "cell_type": "code",
   "execution_count": 4,
   "metadata": {},
   "outputs": [],
   "source": [
    "mainpath= 'T:/werth/haende/' #Pfad zu den Bilder Ordnern\n",
    "folder='offen/'\n",
    "folder2 ='Rechtecking/'\n",
    "\n",
    "removing=1\n",
    "Pfad= mainpath+folder\n",
    "savePfad=mainpath+folder2+folder\n",
    "listing = os.listdir(Pfad)   "
   ]
  },
  {
   "cell_type": "code",
   "execution_count": 9,
   "metadata": {},
   "outputs": [
    {
     "name": "stdout",
     "output_type": "stream",
     "text": [
      "Wall time: 2min 51s\n"
     ]
    }
   ],
   "source": [
    "%%time\n",
    "for file in listing:\n",
    "    img = Image.open(Pfad + file) \n",
    "    w, h = img.size\n",
    "    if h>w:\n",
    "        img.rotate(90)\n",
    "        dif=h-w\n",
    "    else:\n",
    "        dif=w-h\n",
    "    dif1=2*dif/3 #2thirds from one side, one third from the other\n",
    "    dif2=dif/3\n",
    "    area = (dif2, 0, w-dif1, h) # left, up, right, bottom\n",
    "    cropped_img = img.crop(area)\n",
    "    cropped_img.save(savePfad + file, \"JPEG\")\n",
    "    \n",
    "# If you want to see the cropped images    \n",
    "    imgplot = plt.imshow(img)\n",
    "    plt.show()\n",
    "\n",
    "clear_output()"
   ]
  },
  {
   "cell_type": "markdown",
   "metadata": {},
   "source": [
    "Rezising the image to e.g. 224x224 (used for mobileNet)"
   ]
  },
  {
   "cell_type": "code",
   "execution_count": 11,
   "metadata": {},
   "outputs": [],
   "source": [
    "basewidth = 224 #256\n",
    "\n",
    "listing = os.listdir(savePfad) \n",
    "\n",
    "for file in listing:\n",
    "    img = Image.open(savePfad + file)    \n",
    "    wpercent = (basewidth / float(img.size[0]))\n",
    "    hsize = int((float(img.size[1]) * float(wpercent)))\n",
    "    img = img.resize((basewidth, hsize), Image.ANTIALIAS)\n",
    "    img.save(savePfad + 'small' +file, \"JPEG\")\n",
    "    if removing:\n",
    "        os.remove(savePfad + file)"
   ]
  },
  {
   "cell_type": "markdown",
   "metadata": {},
   "source": [
    "## For image composition\n",
    "### create small backgrounds and foreground images"
   ]
  },
  {
   "cell_type": "code",
   "execution_count": null,
   "metadata": {},
   "outputs": [],
   "source": [
    "%%time\n",
    "mainpath= 'T:/werth/hände/' #Pfad zu den Bilder Ordnern\n",
    "folder= 'backgrounds/' #Offen oder Faust, backgrounds\n",
    "folder2='small/' #Savefolder\n",
    "\n",
    "removing=0\n",
    "Pfad= mainpath+folder\n",
    "savePfad=mainpath+folder2+folder\n",
    "\n",
    "if not os.path.exists(savePfad): #Create the path if it does not exist\n",
    "    os.makedirs(savePfad)\n",
    "    \n",
    "basewidth = 512 #256\n",
    "listing = os.listdir(Pfad)    \n",
    "\n",
    "for file in listing:\n",
    "    img = Image.open(Pfad + file)    \n",
    "    wpercent = (basewidth / float(img.size[0]))\n",
    "    hsize = int((float(img.size[1]) * float(wpercent)))\n",
    "    img = img.resize((basewidth, hsize), Image.ANTIALIAS)\n",
    "    img.save(savePfad + file, \"JPEG\")\n",
    "    if removing:\n",
    "        os.remove(savePfad + file)    "
   ]
  },
  {
   "cell_type": "markdown",
   "metadata": {},
   "source": [
    "# Checking file size manually"
   ]
  },
  {
   "cell_type": "code",
   "execution_count": null,
   "metadata": {},
   "outputs": [],
   "source": [
    "Pfad=savePfad\n",
    "\n",
    "listing = os.listdir(Pfad)\n",
    "for file in listing:\n",
    "    im = Image.open(Pfad + file)\n",
    "    width, height = im.size\n",
    "    print(width,height)"
   ]
  }
 ],
 "metadata": {
  "kernelspec": {
   "display_name": "Python 3",
   "language": "python",
   "name": "python3"
  },
  "language_info": {
   "codemirror_mode": {
    "name": "ipython",
    "version": 3
   },
   "file_extension": ".py",
   "mimetype": "text/x-python",
   "name": "python",
   "nbconvert_exporter": "python",
   "pygments_lexer": "ipython3",
   "version": "3.7.3"
  },
  "toc": {
   "base_numbering": 1,
   "nav_menu": {},
   "number_sections": true,
   "sideBar": true,
   "skip_h1_title": false,
   "title_cell": "Table of Contents",
   "title_sidebar": "Contents",
   "toc_cell": false,
   "toc_position": {},
   "toc_section_display": true,
   "toc_window_display": false
  },
  "varInspector": {
   "cols": {
    "lenName": 16,
    "lenType": 16,
    "lenVar": 40
   },
   "kernels_config": {
    "python": {
     "delete_cmd_postfix": "",
     "delete_cmd_prefix": "del ",
     "library": "var_list.py",
     "varRefreshCmd": "print(var_dic_list())"
    },
    "r": {
     "delete_cmd_postfix": ") ",
     "delete_cmd_prefix": "rm(",
     "library": "var_list.r",
     "varRefreshCmd": "cat(var_dic_list()) "
    }
   },
   "types_to_exclude": [
    "module",
    "function",
    "builtin_function_or_method",
    "instance",
    "_Feature"
   ],
   "window_display": false
  }
 },
 "nbformat": 4,
 "nbformat_minor": 2
}
