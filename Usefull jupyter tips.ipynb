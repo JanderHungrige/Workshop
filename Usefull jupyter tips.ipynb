{
 "cells": [
  {
   "cell_type": "markdown",
   "metadata": {},
   "source": [
    "# Usefull Jupyter tips for beginners"
   ]
  },
  {
   "cell_type": "markdown",
   "metadata": {},
   "source": [
    "Very usefull [overview](https://www.dataquest.io/blog/jupyter-notebook-tips-tricks-shortcuts/)"
   ]
  },
  {
   "cell_type": "markdown",
   "metadata": {},
   "source": [
    "## ask question by using : ? "
   ]
  },
  {
   "cell_type": "code",
   "execution_count": 7,
   "metadata": {},
   "outputs": [],
   "source": [
    "import numpy as np\n",
    "np?"
   ]
  },
  {
   "cell_type": "markdown",
   "metadata": {},
   "source": [
    "## Install extensions "
   ]
  },
  {
   "cell_type": "markdown",
   "metadata": {},
   "source": [
    "If you are using conda use this line to install the extension manager in the conda console: "
   ]
  },
  {
   "cell_type": "markdown",
   "metadata": {},
   "source": [
    "`conda install -c conda-forge jupyter_nbextensions_configurator`"
   ]
  },
  {
   "cell_type": "markdown",
   "metadata": {},
   "source": [
    "for any other installation (e.g., pip) [look here](https://github.com/Jupyter-contrib/jupyter_nbextensions_configurator)"
   ]
  },
  {
   "cell_type": "markdown",
   "metadata": {},
   "source": [
    "Now install the extensions. To install autocomplete under conda use: "
   ]
  },
  {
   "cell_type": "markdown",
   "metadata": {},
   "source": [
    "`conda install -c conda-forge jupyter_contrib_nbextensions`"
   ]
  },
  {
   "cell_type": "markdown",
   "metadata": {},
   "source": [
    "for any other installation (e.g., pip) [look here](https://github.com/ipython-contrib/jupyter_contrib_nbextensions)"
   ]
  },
  {
   "cell_type": "markdown",
   "metadata": {},
   "source": [
    "To accsess the extensions, look in the jupiter notebook overview (which opens first when open jupiter notebook from the consol). There is now a tab called Nbextensions. Ther you can mark all extensions you would like to use. "
   ]
  },
  {
   "cell_type": "markdown",
   "metadata": {},
   "source": [
    "- The autocomplete extension is called \"hinterland\"\n",
    "\n",
    "- For idiots like me, spellchecker is a nice spellchecker. If you do not own grammarly, which apparently is more sophisticated\n",
    "\n",
    "- The variable inspector is also quite usefull"
   ]
  },
  {
   "cell_type": "markdown",
   "metadata": {},
   "source": [
    "## Markdowns lookup"
   ]
  },
  {
   "cell_type": "markdown",
   "metadata": {},
   "source": [
    "[Jupyter markdown cheat sheet](https://github.com/adam-p/markdown-here/wiki/Markdown-Here-Cheatsheet)"
   ]
  },
  {
   "cell_type": "markdown",
   "metadata": {},
   "source": [
    "change fond size:\n",
    "\n",
    "`<font size=\"5\">your_text_here</font>`"
   ]
  },
  {
   "cell_type": "markdown",
   "metadata": {},
   "source": [
    "## Higlight boxes"
   ]
  },
  {
   "cell_type": "markdown",
   "metadata": {},
   "source": [
    "<div class=\"alert alert-block alert-info\">\n",
    "<b>Intro to highlight:</b>\n",
    "\n",
    "you can use:\n",
    "\n",
    "class=\"alert alert-block alert-info\"\n",
    "class=\"alert alert-block alert-warning\"\n",
    "class=\"alert alert-block alert-success\"\n",
    "class=\"alert alert-block alert-danger\"\n",
    "</div>"
   ]
  },
  {
   "cell_type": "markdown",
   "metadata": {},
   "source": [
    "<div class=\"alert alert-block alert-warning\">\n",
    "<b>Intro to highlight:</b>\n",
    "\n",
    "Warning example\n",
    "\n",
    "</div>"
   ]
  },
  {
   "cell_type": "markdown",
   "metadata": {},
   "source": [
    "## Keyboard Shortcuts"
   ]
  },
  {
   "cell_type": "markdown",
   "metadata": {},
   "source": [
    "Using \n",
    "- Shift + enter executes the cell and jumps or creates a new one\n",
    "- Alt + enter executes and creates a nwe cell afte the executed also wihtin the notebook\n",
    "- Str + enter just executes the cell \n",
    "\n",
    "When in command mode (the left bar is blue. Click into the space between the color bar and this command window, or press ESC)\n",
    "- A to insert a new cell above the current cell\n",
    "- B to insert a new cell below. \n",
    "- M to change the current cell to Markdown\n",
    "- Y to change it back to code\n",
    "\n",
    "- ESC to command mode\n",
    "- D + D (press the key twice) to delete the current cell\n"
   ]
  },
  {
   "cell_type": "markdown",
   "metadata": {},
   "source": [
    "## Change your jupyter start folder (win10)\n",
    "\n",
    "You can change the start folder by following the noted steps. This can be usefull if you want to write directly into a Github repo which is located on your PC.\n",
    "\n",
    "For Windows 10\n",
    "\n",
    "- Look for the `jupyter_notebook_config.py` in `C:\\Users\\your_user_name\\.jupyter` or look it up with cortana.\n",
    "\n",
    "    If you don't have it, then go to the `cmd` line and type:\n",
    "\n",
    "    `jupyter notebook --generate-config`\n",
    "    \n",
    "\n",
    "- Open the `jupyter_notebook_config.py` and do a ctrl-f search for:\n",
    "\n",
    "    `c.NotebookApp.notebook_dir`\n",
    "\n",
    "    Uncomment it by removing the #.\n",
    "\n",
    "    Change it to:\n",
    "\n",
    "    `c.NotebookApp.notebook_dir = 'C:/your/new/path'`\n",
    "\n",
    "Note: You can put a u in front of the first ', change \\\\\\\\ to /, or change the ' to \". I don't think it matters.\n",
    "\n",
    "Go to your Jupyter Notebook link and right click it. Select properties. Go to the Shortcut menu and click Target. Look for %USERPROFILE%. Delete it. Save. Restart Jupyter. Not with annaconda\n",
    "\n"
   ]
  },
  {
   "cell_type": "markdown",
   "metadata": {},
   "source": [
    "## Run external code in the command line"
   ]
  },
  {
   "cell_type": "markdown",
   "metadata": {},
   "source": [
    "When you want to run a command line command use a ! before the command. An example is to run tensorboard"
   ]
  },
  {
   "cell_type": "code",
   "execution_count": null,
   "metadata": {},
   "outputs": [],
   "source": [
    "tensorboard --logdir=  hier muss ein ordner path hin "
   ]
  },
  {
   "cell_type": "markdown",
   "metadata": {},
   "source": [
    "be aware that running tensorboard occupies your notebook (indicated by the asterisk in the brackets). Hit Interrupt kernel (black square in the menu) to stop it."
   ]
  },
  {
   "cell_type": "markdown",
   "metadata": {},
   "source": [
    "To interprete a complete cell as a bash us %% bash"
   ]
  },
  {
   "cell_type": "markdown",
   "metadata": {},
   "source": [
    "## Import another notebook into your notebook"
   ]
  },
  {
   "cell_type": "markdown",
   "metadata": {},
   "source": [
    "If you want to load/import another notebook in your notebook just call `%run MyOtherNotebook.ipynb` \n",
    "\n",
    "***"
   ]
  },
  {
   "cell_type": "markdown",
   "metadata": {},
   "source": [
    "If you want to time a cell, simply put `%%time`"
   ]
  }
 ],
 "metadata": {
  "kernelspec": {
   "display_name": "Python 3",
   "language": "python",
   "name": "python3"
  },
  "language_info": {
   "codemirror_mode": {
    "name": "ipython",
    "version": 3
   },
   "file_extension": ".py",
   "mimetype": "text/x-python",
   "name": "python",
   "nbconvert_exporter": "python",
   "pygments_lexer": "ipython3",
   "version": "3.5.6"
  },
  "varInspector": {
   "cols": {
    "lenName": 16,
    "lenType": 16,
    "lenVar": 40
   },
   "kernels_config": {
    "python": {
     "delete_cmd_postfix": "",
     "delete_cmd_prefix": "del ",
     "library": "var_list.py",
     "varRefreshCmd": "print(var_dic_list())"
    },
    "r": {
     "delete_cmd_postfix": ") ",
     "delete_cmd_prefix": "rm(",
     "library": "var_list.r",
     "varRefreshCmd": "cat(var_dic_list()) "
    }
   },
   "types_to_exclude": [
    "module",
    "function",
    "builtin_function_or_method",
    "instance",
    "_Feature"
   ],
   "window_display": false
  }
 },
 "nbformat": 4,
 "nbformat_minor": 2
}
