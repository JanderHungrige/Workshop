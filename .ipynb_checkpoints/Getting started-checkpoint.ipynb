{
 "cells": [
  {
   "cell_type": "markdown",
   "metadata": {},
   "source": [
    "# How to set up your System for deep learning"
   ]
  },
  {
   "cell_type": "markdown",
   "metadata": {},
   "source": [
    "### First set up a python distributor and package manager on your system "
   ]
  },
  {
   "cell_type": "markdown",
   "metadata": {},
   "source": [
    "*There are probably other ways to set up your ssystem, but I preffere this way. *\n",
    "\n",
    "**Install conda **\n",
    "\n",
    "First install [conda](https://www.anaconda.com/)\n",
    "or [miniconda](https://docs.conda.io/en/latest/miniconda.html)\n",
    "\n",
    "Conda comes with Python. Choose python 3.x for installation. If you are a troubled man who likes a difficult life, install Python 2.x\n",
    "\n",
    "Then I would suggest to set up a conda environment where all the necessary libraries installed. This is not a most have but good practice. The environment separates all different package installations from other environments. In some cases specific libraries versions are needed which would not work in other cases. To not destroy your complete system, an environment shields you in this specific cases.\n",
    "\n",
    "One example is python. For tensorflow and Keras only Python 3.6 is supported (to data), while the latest python is 3.7 (at the moment). \n",
    "\n",
    "**Create the environment:**\n",
    "\n",
    "`conda create --yourenvname python=3.6`\n",
    "\n",
    "or\n",
    "\n",
    "`conda create -n yourenvname python=3.6`\n",
    "\n",
    "**Activate the environment:**\n",
    "\n",
    "`WINDOWS:    activate py35`\n",
    "\n",
    "`LINUX, macOS: source activate py35`\n",
    "\n",
    "**Some other usefull comands in conda**\n",
    "\n",
    "Make exact copy of an environment : `conda create --clone py35 --name py35-2`\n",
    "\n",
    "List all packages and versions installed in active environmen: `conda list`\n",
    "\n",
    "conda [cheat sheet](https://docs.conda.io/projects/conda/en/4.6.0/_downloads/52a95608c49671267e40c689e0bc00ca/conda-cheatsheet.pdf)\n",
    "\n",
    "***"
   ]
  },
  {
   "cell_type": "markdown",
   "metadata": {},
   "source": [
    "### Install libraries for Pyhton data handling and deep learning"
   ]
  },
  {
   "cell_type": "markdown",
   "metadata": {},
   "source": [
    "To install packages for Anaconda, open the Anaconda promt. \n",
    "Activate the environment you want to install to. \n",
    "\n",
    "The most common and needed libraries are:"
   ]
  },
  {
   "cell_type": "code",
   "execution_count": null,
   "metadata": {},
   "outputs": [],
   "source": [
    "conda install -c conda-forge tensorflow # deep learing platfrom\n",
    "#conda install -c conda-forge keras # API for tensorflow and other deep learning libraries\n",
    "conda install -c anaconda pandas # data handling library\n",
    "conda install -c anaconda scikit-learn # machine learning library\n",
    "conda install -c anaconda matplotlib # plotting library\n",
    "conda install -c conda-forge python-utils # collection of usefull python functions\n",
    "conda install -c anaconda jupyter # The notebook enviroment you are looking at right now"
   ]
  },
  {
   "cell_type": "markdown",
   "metadata": {},
   "source": [
    "If you want to be able to run your code with GPU instead of CPU further steps have to be done\n",
    "\n",
    "****"
   ]
  },
  {
   "cell_type": "markdown",
   "metadata": {},
   "source": [
    "# How to set up your device for GPU usage"
   ]
  },
  {
   "cell_type": "markdown",
   "metadata": {},
   "source": [
    "<div class=\"alert alert-block alert-info\">\n",
    "You will have to have a Nvidia Card\n",
    "<div>"
   ]
  },
  {
   "cell_type": "markdown",
   "metadata": {},
   "source": [
    "**The easiest way** is to install tensorflow-gpu over `conda install tensorflow-gpu`\n",
    "\n",
    "then install the CUDA drivers use `conda install -c anaconda cudatoolkit`\n",
    "\n",
    "I would suggest to install that again in a conda eviroment to not mix things. If I am not mistaken, tensorflow and tensorflow-gpu cannot be installed at the same time. this is the optimal example for a using different environments.\n",
    "\n",
    "Crate a new one or clone the one from before\n",
    "\n",
    "`conda create -n tensorflow_gpuenv tensorflow-gpu`\n",
    "\n",
    "`conda activate tensorflow_gpuenv`\n",
    "\n",
    "To check if you are actually running on GPU use \n",
    "\n",
    "`sess = tf.Session(config=tf.ConfigProto(log_device_placement=True))` \n",
    "\n",
    "In Keras check if Kears see the GPUs:\n",
    "\n",
    "`    from keras import backend as K\n",
    " K.tensorflow_backend._get_available_gpus()`\n",
    "\n",
    "***"
   ]
  },
  {
   "cell_type": "markdown",
   "metadata": {},
   "source": [
    "**Otherwise** if you like pain, do it via separate installs. You will have to install cuda. The Nvida specific driver/ product\n",
    "\n",
    "Load 9.0 version as it is compatible with tensorflow and CNTK (Microsoft version ) and are compatible with pip\n",
    "\n",
    "[Cuda 9.0 downloadlink](https://developer.nvidia.com/cuda-90-download-archive)\n",
    "\n",
    "You have to install the base version  and can then also install one of the patch once.\n",
    "\n",
    "Then also install cuDNN from [here](https://developer.nvidia.com/rdp/cudnn-archive). Use the version for the CUDA version you installed before(9.0)\n",
    "\n",
    "extract the download and copy it into the cuda 9.0 folder\n",
    "\n",
    "A recent video to follow can be watch [here](https://www.youtube.com/watch?v=QU6CaGyda7Q)\n",
    "\n",
    "\n",
    "\n",
    "\n",
    "\n",
    "\n"
   ]
  }
 ],
 "metadata": {
  "kernelspec": {
   "display_name": "Python 3",
   "language": "python",
   "name": "python3"
  },
  "language_info": {
   "codemirror_mode": {
    "name": "ipython",
    "version": 3
   },
   "file_extension": ".py",
   "mimetype": "text/x-python",
   "name": "python",
   "nbconvert_exporter": "python",
   "pygments_lexer": "ipython3",
   "version": "3.7.3"
  },
  "toc": {
   "base_numbering": 1,
   "nav_menu": {},
   "number_sections": true,
   "sideBar": true,
   "skip_h1_title": false,
   "title_cell": "Table of Contents",
   "title_sidebar": "Contents",
   "toc_cell": false,
   "toc_position": {},
   "toc_section_display": true,
   "toc_window_display": false
  },
  "varInspector": {
   "cols": {
    "lenName": 16,
    "lenType": 16,
    "lenVar": 40
   },
   "kernels_config": {
    "python": {
     "delete_cmd_postfix": "",
     "delete_cmd_prefix": "del ",
     "library": "var_list.py",
     "varRefreshCmd": "print(var_dic_list())"
    },
    "r": {
     "delete_cmd_postfix": ") ",
     "delete_cmd_prefix": "rm(",
     "library": "var_list.r",
     "varRefreshCmd": "cat(var_dic_list()) "
    }
   },
   "types_to_exclude": [
    "module",
    "function",
    "builtin_function_or_method",
    "instance",
    "_Feature"
   ],
   "window_display": false
  }
 },
 "nbformat": 4,
 "nbformat_minor": 2
}
