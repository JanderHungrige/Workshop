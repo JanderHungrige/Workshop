{
 "cells": [
  {
   "cell_type": "markdown",
   "metadata": {},
   "source": [
    "# Create simple CNN network"
   ]
  },
  {
   "cell_type": "markdown",
   "metadata": {},
   "source": [
    "Import all important libraries"
   ]
  },
  {
   "cell_type": "code",
   "execution_count": 27,
   "metadata": {
    "scrolled": true
   },
   "outputs": [],
   "source": [
    "import tensorflow as tf\n",
    "from tensorflow import keras\n",
    "import csv\n",
    "# Import stuff fof preprocessing\n",
    "from tensorflow.keras.preprocessing.image import ImageDataGenerator"
   ]
  },
  {
   "cell_type": "markdown",
   "metadata": {},
   "source": [
    "Now load the IDmap "
   ]
  },
  {
   "cell_type": "code",
   "execution_count": 29,
   "metadata": {},
   "outputs": [],
   "source": [
    "IDmap = {} # id: hand gesture\\n\",\n",
    "# open the csv file\n",
    "f = open(\"./IDmapping.csv\", mode='r') \n",
    "fileContents = f.read() #reading the content\\n\",\n",
    "fileContents = fileContents.split('\\\\n') # splitting the content at the line break \\\\n and saving it into a list\\n\",\n",
    "             \n",
    "for i in range(len(fileContents)-1):\n",
    "             fileContents[i] = fileContents[i].split(',') # splitting each list entry at the ,\\n\",\n",
    "             IDmap[fileContents[i][0]] = fileContents[i][1] #create dictionary with map ID\"\n"
   ]
  },
  {
   "cell_type": "markdown",
   "metadata": {},
   "source": [
    "Now create ImageDataGenerator"
   ]
  },
  {
   "cell_type": "code",
   "execution_count": null,
   "metadata": {},
   "outputs": [],
   "source": [
    "datagen=ImageDataGenerator(rescale=1./255)"
   ]
  },
  {
   "cell_type": "markdown",
   "metadata": {},
   "source": [
    "# flow_from_dataframe\n",
    "\n",
    "now we can use load the data from a CSV or Json file.\n",
    "\n",
    "Parameters:\n",
    " - **dataframe** Pandas DataFrame which contains the filenames and classes or numeric data to be treated as target values.\n",
    " - **directory** Path to the folder which contains all the images,None if x_col contains absolute paths pointing to each image instead of just filenames.\n",
    " - **x_col** The column in the dataframe that has the filenames of the images\n",
    " - **y_col** The column/columns in the dataframe in the filename that will be treated as raw target values if   class_mode=”raw” (useful for regression tasks) or they will be treated as name of the classes if class_mode is “binary”/”categorical” or they will be ignored if class_mode is “input”/None.\n",
    " - **class_mode** In addition to all the class_modes previously available in flow_from_directory, there is “raw”.\n",
    " - **drop_duplicates** Boolean, whether to drop duplicate rows based on filename,True by default.\n",
    "\n",
    "\n",
    "So you can put either all the images in one folder and point to the folder with the `directory` parameter or you have them somewhere scattered and point to them with a full path (with extension like *.jpeg) in the CSV and parameter `directroy=None`"
   ]
  },
  {
   "cell_type": "code",
   "execution_count": null,
   "metadata": {},
   "outputs": [],
   "source": [
    "train_generator=datagen.flow_from_dataframe(dataframe=df, directory=\".\\train_imgs\", x_col=\"id\", y_col=\"label\", class_mode=\"categorical\", target_size=(224,224), batch_size=32)"
   ]
  },
  {
   "cell_type": "raw",
   "metadata": {},
   "source": []
  }
 ],
 "metadata": {
  "kernelspec": {
   "display_name": "Python 3",
   "language": "python",
   "name": "python3"
  },
  "language_info": {
   "codemirror_mode": {
    "name": "ipython",
    "version": 3
   },
   "file_extension": ".py",
   "mimetype": "text/x-python",
   "name": "python",
   "nbconvert_exporter": "python",
   "pygments_lexer": "ipython3",
   "version": "3.7.3"
  },
  "toc": {
   "base_numbering": 1,
   "nav_menu": {},
   "number_sections": true,
   "sideBar": true,
   "skip_h1_title": false,
   "title_cell": "Table of Contents",
   "title_sidebar": "Contents",
   "toc_cell": false,
   "toc_position": {},
   "toc_section_display": true,
   "toc_window_display": false
  },
  "varInspector": {
   "cols": {
    "lenName": 16,
    "lenType": 16,
    "lenVar": 40
   },
   "kernels_config": {
    "python": {
     "delete_cmd_postfix": "",
     "delete_cmd_prefix": "del ",
     "library": "var_list.py",
     "varRefreshCmd": "print(var_dic_list())"
    },
    "r": {
     "delete_cmd_postfix": ") ",
     "delete_cmd_prefix": "rm(",
     "library": "var_list.r",
     "varRefreshCmd": "cat(var_dic_list()) "
    }
   },
   "position": {
    "height": "313px",
    "left": "1615px",
    "right": "181.233px",
    "top": "107px",
    "width": "350px"
   },
   "types_to_exclude": [
    "module",
    "function",
    "builtin_function_or_method",
    "instance",
    "_Feature"
   ],
   "window_display": true
  }
 },
 "nbformat": 4,
 "nbformat_minor": 2
}
