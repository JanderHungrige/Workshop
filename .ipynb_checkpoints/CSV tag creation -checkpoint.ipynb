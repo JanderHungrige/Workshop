{
 "cells": [
  {
   "cell_type": "markdown",
   "metadata": {},
   "source": [
    "Intro"
   ]
  },
  {
   "cell_type": "markdown",
   "metadata": {},
   "source": [
    "## Create Image annotation CSV"
   ]
  },
  {
   "cell_type": "markdown",
   "metadata": {},
   "source": [
    "First we Load the images from the folders into a list. Then also create a list with tags belonging to the image. Here 1 for closed hand and 2 for open hand"
   ]
  },
  {
   "cell_type": "code",
   "execution_count": 30,
   "metadata": {
    "collapsed": true
   },
   "outputs": [
    {
     "data": {
      "text/plain": [
       "['T:/werth/Messe/hände/small/DSC_5595.JPG',\n",
       " 'T:/werth/Messe/hände/small/DSC_5596.JPG',\n",
       " 'T:/werth/Messe/hände/small/DSC_5598.JPG',\n",
       " 'T:/werth/Messe/hände/small/DSC_5604.JPG',\n",
       " 'T:/werth/Messe/hände/small/DSC_5607.JPG',\n",
       " 'T:/werth/Messe/hände/small/DSC_5608.JPG',\n",
       " 'T:/werth/Messe/hände/small/DSC_5609.JPG',\n",
       " 'T:/werth/Messe/hände/small/DSC_5610.JPG',\n",
       " 'T:/werth/Messe/hände/small/DSC_5616.JPG',\n",
       " 'T:/werth/Messe/hände/small/DSC_5617.JPG',\n",
       " 'T:/werth/Messe/hände/small/DSC_5618.JPG',\n",
       " 'T:/werth/Messe/hände/small/DSC_5622.JPG',\n",
       " 'T:/werth/Messe/hände/small/DSC_5623.JPG',\n",
       " 'T:/werth/Messe/hände/small/DSC_5624.JPG',\n",
       " 'T:/werth/Messe/hände/small/DSC_5625.JPG',\n",
       " 'T:/werth/Messe/hände/small/DSC_5626.JPG',\n",
       " 'T:/werth/Messe/hände/small/DSC_5627.JPG',\n",
       " 'T:/werth/Messe/hände/small/DSC_5628.JPG',\n",
       " 'T:/werth/Messe/hände/small/DSC_5632.JPG',\n",
       " 'T:/werth/Messe/hände/small/DSC_5633.JPG',\n",
       " 'T:/werth/Messe/hände/small/DSC_5634.JPG',\n",
       " 'T:/werth/Messe/hände/small/DSC_5639.JPG',\n",
       " 'T:/werth/Messe/hände/small/DSC_5640.JPG',\n",
       " 'T:/werth/Messe/hände/small/DSC_5641.JPG',\n",
       " 'T:/werth/Messe/hände/small/DSC_5642.JPG',\n",
       " 'T:/werth/Messe/hände/small/DSC_5647.JPG',\n",
       " 'T:/werth/Messe/hände/small/DSC_5648.JPG',\n",
       " 'T:/werth/Messe/hände/small/DSC_5649.JPG',\n",
       " 'T:/werth/Messe/hände/small/DSC_5650.JPG',\n",
       " 'T:/werth/Messe/hände/small/DSC_5651.JPG',\n",
       " 'T:/werth/Messe/hände/small/DSC_5652.JPG',\n",
       " 'T:/werth/Messe/hände/small/DSC_5656.JPG',\n",
       " 'T:/werth/Messe/hände/small/DSC_5657.JPG',\n",
       " 'T:/werth/Messe/hände/small/DSC_5658.JPG',\n",
       " 'T:/werth/Messe/hände/small/DSC_5660.JPG',\n",
       " 'T:/werth/Messe/hände/small/DSC_5661.JPG',\n",
       " 'T:/werth/Messe/hände/small/DSC_5664.JPG',\n",
       " 'T:/werth/Messe/hände/small/DSC_5665.JPG',\n",
       " 'T:/werth/Messe/hände/small/DSC_5666.JPG',\n",
       " 'T:/werth/Messe/hände/small/DSC_5670.JPG',\n",
       " 'T:/werth/Messe/hände/small/DSC_5671.JPG',\n",
       " 'T:/werth/Messe/hände/small/DSC_5672.JPG',\n",
       " 'T:/werth/Messe/hände/small/DSC_5676.JPG',\n",
       " 'T:/werth/Messe/hände/small/DSC_5677.JPG',\n",
       " 'T:/werth/Messe/hände/small/DSC_5678.JPG',\n",
       " 'T:/werth/Messe/hände/small/DSC_5682.JPG',\n",
       " 'T:/werth/Messe/hände/small/DSC_5683.JPG',\n",
       " 'T:/werth/Messe/hände/small/DSC_5684.JPG',\n",
       " 'T:/werth/Messe/hände/small/DSC_5692.JPG',\n",
       " 'T:/werth/Messe/hände/small/DSC_5693.JPG',\n",
       " 'T:/werth/Messe/hände/small/DSC_5694.JPG',\n",
       " 'T:/werth/Messe/hände/small/DSC_5695.JPG',\n",
       " 'T:/werth/Messe/hände/small/DSC_5700.JPG',\n",
       " 'T:/werth/Messe/hände/small/DSC_5701.JPG',\n",
       " 'T:/werth/Messe/hände/small/DSC_5702.JPG',\n",
       " 'T:/werth/Messe/hände/small/DSC_5703.JPG',\n",
       " 'T:/werth/Messe/hände/small/DSC_5704.JPG',\n",
       " 'T:/werth/Messe/hände/small/DSC_5705.JPG',\n",
       " 'T:/werth/Messe/hände/small/DSC_5709.JPG',\n",
       " 'T:/werth/Messe/hände/small/DSC_5710.JPG',\n",
       " 'T:/werth/Messe/hände/small/DSC_5711.JPG',\n",
       " 'T:/werth/Messe/hände/small/DSC_5712.JPG',\n",
       " 'T:/werth/Messe/hände/small/DSC_5717.JPG',\n",
       " 'T:/werth/Messe/hände/small/DSC_5718.JPG',\n",
       " 'T:/werth/Messe/hände/small/DSC_5719.JPG',\n",
       " 'T:/werth/Messe/hände/small/DSC_5720.JPG',\n",
       " 'T:/werth/Messe/hände/small/DSC_5724.JPG',\n",
       " 'T:/werth/Messe/hände/small/DSC_5725.JPG',\n",
       " 'T:/werth/Messe/hände/small/DSC_5726.JPG',\n",
       " 'T:/werth/Messe/hände/small/DSC_5733.JPG',\n",
       " 'T:/werth/Messe/hände/small/DSC_5734.JPG',\n",
       " 'T:/werth/Messe/hände/small/DSC_5735.JPG',\n",
       " 'T:/werth/Messe/hände/small/DSC_5736.JPG',\n",
       " 'T:/werth/Messe/hände/small/DSC_5737.JPG',\n",
       " 'T:/werth/Messe/hände/small/DSC_5738.JPG',\n",
       " 'T:/werth/Messe/hände/small/DSC_5739.JPG',\n",
       " 'T:/werth/Messe/hände/small/DSC_5740.JPG',\n",
       " 'T:/werth/Messe/hände/small/DSC_5746.JPG',\n",
       " 'T:/werth/Messe/hände/small/DSC_5747.JPG',\n",
       " 'T:/werth/Messe/hände/small/DSC_5748.JPG',\n",
       " 'T:/werth/Messe/hände/small/DSC_5749.JPG',\n",
       " 'T:/werth/Messe/hände/small/DSC_5750.JPG',\n",
       " 'T:/werth/Messe/hände/small/DSC_5751.JPG',\n",
       " 'T:/werth/Messe/hände/small/DSC_5752.JPG',\n",
       " 'T:/werth/Messe/hände/small/DSC_5753.JPG',\n",
       " 'T:/werth/Messe/hände/small/DSC_5754.JPG',\n",
       " 'T:/werth/Messe/hände/small/DSC_5755.JPG',\n",
       " 'T:/werth/Messe/hände/small/DSC_5756.JPG',\n",
       " 'T:/werth/Messe/hände/small/DSC_5757.JPG',\n",
       " 'T:/werth/Messe/hände/small/DSC_5758.JPG',\n",
       " 'T:/werth/Messe/hände/small/DSC_5766.JPG',\n",
       " 'T:/werth/Messe/hände/small/DSC_5767.JPG',\n",
       " 'T:/werth/Messe/hände/small/DSC_5768.JPG',\n",
       " 'T:/werth/Messe/hände/small/DSC_5769.JPG',\n",
       " 'T:/werth/Messe/hände/small/DSC_5770.JPG',\n",
       " 'T:/werth/Messe/hände/small/DSC_5771.JPG',\n",
       " 'T:/werth/Messe/hände/small/DSC_5772.JPG',\n",
       " 'T:/werth/Messe/hände/small/DSC_5773.JPG',\n",
       " 'T:/werth/Messe/hände/small/DSC_5774.JPG',\n",
       " 'T:/werth/Messe/hände/small/DSC_5775.JPG',\n",
       " 'T:/werth/Messe/hände/small/DSC_5776.JPG',\n",
       " 'T:/werth/Messe/hände/small/DSC_5785.JPG',\n",
       " 'T:/werth/Messe/hände/small/DSC_5786.JPG',\n",
       " 'T:/werth/Messe/hände/small/DSC_5787.JPG',\n",
       " 'T:/werth/Messe/hände/small/DSC_5788.JPG',\n",
       " 'T:/werth/Messe/hände/small/DSC_5789.JPG',\n",
       " 'T:/werth/Messe/hände/small/DSC_5800.JPG',\n",
       " 'T:/werth/Messe/hände/small/DSC_5801.JPG',\n",
       " 'T:/werth/Messe/hände/small/DSC_5802.JPG',\n",
       " 'T:/werth/Messe/hände/small/DSC_5803.JPG',\n",
       " 'T:/werth/Messe/hände/small/DSC_5804.JPG',\n",
       " 'T:/werth/Messe/hände/small/DSC_5807.JPG',\n",
       " 'T:/werth/Messe/hände/small/DSC_5808.JPG',\n",
       " 'T:/werth/Messe/hände/small/DSC_5813.JPG',\n",
       " 'T:/werth/Messe/hände/small/DSC_5814.JPG',\n",
       " 'T:/werth/Messe/hände/small/DSC_5815.JPG',\n",
       " 'T:/werth/Messe/hände/small/DSC_5816.JPG',\n",
       " 'T:/werth/Messe/hände/small/DSC_5821.JPG',\n",
       " 'T:/werth/Messe/hände/small/DSC_5822.JPG',\n",
       " 'T:/werth/Messe/hände/small/DSC_5823.JPG',\n",
       " 'T:/werth/Messe/hände/small/DSC_5824.JPG',\n",
       " 'T:/werth/Messe/hände/small/DSC_5825.JPG',\n",
       " 'T:/werth/Messe/hände/small/DSC_5828.JPG',\n",
       " 'T:/werth/Messe/hände/small/DSC_5829.JPG',\n",
       " 'T:/werth/Messe/hände/small/DSC_5830.JPG',\n",
       " 'T:/werth/Messe/hände/small/DSC_5831.JPG',\n",
       " 'T:/werth/Messe/hände/small/DSC_5837.JPG',\n",
       " 'T:/werth/Messe/hände/small/DSC_5838.JPG',\n",
       " 'T:/werth/Messe/hände/small/DSC_5839.JPG',\n",
       " 'T:/werth/Messe/hände/small/DSC_5840.JPG',\n",
       " 'T:/werth/Messe/hände/small/DSC_5845.JPG',\n",
       " 'T:/werth/Messe/hände/small/DSC_5846.JPG',\n",
       " 'T:/werth/Messe/hände/small/DSC_5847.JPG',\n",
       " 'T:/werth/Messe/hände/small/DSC_5848.JPG',\n",
       " 'T:/werth/Messe/hände/small/DSC_5849.JPG',\n",
       " 'T:/werth/Messe/hände/small/DSC_5850.JPG',\n",
       " 'T:/werth/Messe/hände/small/DSC_5851.JPG',\n",
       " 'T:/werth/Messe/hände/small/DSC_5852.JPG',\n",
       " 'T:/werth/Messe/hände/small/DSC_5853.JPG',\n",
       " 'T:/werth/Messe/hände/small/DSC_5854.JPG',\n",
       " 'T:/werth/Messe/hände/small/DSC_5855.JPG',\n",
       " 'T:/werth/Messe/hände/small/DSC_5869.JPG',\n",
       " 'T:/werth/Messe/hände/small/DSC_5870.JPG',\n",
       " 'T:/werth/Messe/hände/small/DSC_5871.JPG',\n",
       " 'T:/werth/Messe/hände/small/DSC_5872.JPG']"
      ]
     },
     "execution_count": 30,
     "metadata": {},
     "output_type": "execute_result"
    }
   ],
   "source": [
    "import os\n",
    "import csv #provides functionality to both read from and write to CSV files. Designed to work out of the box with Excel-generated CSV files\n",
    "import pandas as pd #pandas is a great data handling library\n",
    "\n",
    "root_dir = \"T:/werth/Messe/hände/small/\"  # Path relative to current dir (os.getcwd())\n",
    "folder1 = \"Faust\"\n",
    "folder2 = \"Offen\"\n",
    "\n",
    "#os.listdir(root_dir + folder)  # List all the items in root_dir\n",
    "Faust=[item for item in os.listdir(root_dir+ folder1) if os.path.isfile(os.path.join(root_dir+ folder1, item))]  # Filter items and only keep files (strip out directories)\n",
    "Offen=[item for item in os.listdir(root_dir+ folder2) if os.path.isfile(os.path.join(root_dir+ folder2, item))]  # Filter items and only keep files (strip out directories)\n",
    "\n",
    "Faust=[root_dir + s for s in Faust] # Adding the root path to the image name to create a full path\n",
    "Offen=[root_dir + s for s in Offen]\n",
    "\n",
    "Annot1= [1] * len(Faust) # Same length list with annotation key\n",
    "Annot2= [2] * len(Offen)\n",
    "\n"
   ]
  },
  {
   "cell_type": "markdown",
   "metadata": {},
   "source": [
    "Then we ceate a data frame with pandas in the way we want the image and tags merged. In this case we need the format: Imagepath,tag\n",
    "\n"
   ]
  },
  {
   "cell_type": "code",
   "execution_count": 74,
   "metadata": {},
   "outputs": [],
   "source": [
    "df1= pd.DataFrame(list(zip(*[Faust,Annot1]))).add_prefix('Col_')\n",
    "df2= pd.DataFrame(list(zip(*[Offen,Annot2]))).add_prefix('Col_')\n",
    "\n",
    "frames = [df1,df2]   # Merge list \n",
    "F_and_A = pd.concat(frames, sort=False) #Merge into the pandas dataframe\n",
    "\n",
    "F_and_A.to_csv('Hand_Annotations.csv', index=False) # Write to CSV file\n",
    "\n",
    "#print(frames)"
   ]
  },
  {
   "cell_type": "markdown",
   "metadata": {},
   "source": [
    "Alternaternatively we could also create an dictionary :\n"
   ]
  },
  {
   "cell_type": "code",
   "execution_count": 71,
   "metadata": {},
   "outputs": [],
   "source": [
    "d1 = dict(zip(Faust,Annot1)) # Create dict from data list and annotaions keys\n",
    "d2 = dict(zip(Offen,Annot2))\n",
    "d = {**d1, **d2} #Merge both dicts. Attention, if the keys have the same name, they will be overwritten by (here) d2"
   ]
  },
  {
   "cell_type": "markdown",
   "metadata": {},
   "source": [
    "But the transformation is not as straight forward as with pandas to_csv"
   ]
  },
  {
   "cell_type": "markdown",
   "metadata": {},
   "source": [
    "## Create ID mapping CSV"
   ]
  },
  {
   "cell_type": "markdown",
   "metadata": {},
   "source": [
    "Now we create another CSV file which maps the tag od ID to a annotation. First create a simple dict to wit the key and values as ID mapping and then transfer that again into CSV"
   ]
  },
  {
   "cell_type": "code",
   "execution_count": 17,
   "metadata": {},
   "outputs": [],
   "source": [
    "df3 = {'Faust': [1], 'Offen': [2]} #regular dict with the annotation mapping\n",
    "df3 = pd.DataFrame.from_dict(data=df3,orient='index') #convert to a pandas dataframe for easy conversion into CSV\n",
    "df3.to_csv('IDmapping.csv', index=True, header=False) # Write to CSV file (Can also just be added in the line before with: ...).to_csv(...))"
   ]
  }
 ],
 "metadata": {
  "kernelspec": {
   "display_name": "Python 3",
   "language": "python",
   "name": "python3"
  },
  "language_info": {
   "codemirror_mode": {
    "name": "ipython",
    "version": 3
   },
   "file_extension": ".py",
   "mimetype": "text/x-python",
   "name": "python",
   "nbconvert_exporter": "python",
   "pygments_lexer": "ipython3",
   "version": "3.5.6"
  },
  "varInspector": {
   "cols": {
    "lenName": 16,
    "lenType": 16,
    "lenVar": 40
   },
   "kernels_config": {
    "python": {
     "delete_cmd_postfix": "",
     "delete_cmd_prefix": "del ",
     "library": "var_list.py",
     "varRefreshCmd": "print(var_dic_list())"
    },
    "r": {
     "delete_cmd_postfix": ") ",
     "delete_cmd_prefix": "rm(",
     "library": "var_list.r",
     "varRefreshCmd": "cat(var_dic_list()) "
    }
   },
   "position": {
    "height": "268px",
    "left": "1376px",
    "right": "-8px",
    "top": "100px",
    "width": "554px"
   },
   "types_to_exclude": [
    "module",
    "function",
    "builtin_function_or_method",
    "instance",
    "_Feature"
   ],
   "window_display": true
  }
 },
 "nbformat": 4,
 "nbformat_minor": 2
}
