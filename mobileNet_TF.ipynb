{
 "cells": [
  {
   "cell_type": "markdown",
   "metadata": {},
   "source": [
    "# Using pretrained MobileNetV2\n",
    "\n",
    "Here we want to use a pre-trained mobile net and train it on the hand images from before. If we use the model already implemented in keras, we can use the weights from ImageNet."
   ]
  },
  {
   "cell_type": "markdown",
   "metadata": {},
   "source": [
    "# importing libraries"
   ]
  },
  {
   "cell_type": "code",
   "execution_count": 1,
   "metadata": {},
   "outputs": [],
   "source": [
    "import tensorflow as tf\n",
    "from tensorflow import keras\n",
    "\n",
    "from tensorflow.keras import backend as K\n",
    "from tensorflow.keras.layers import Dense, Activation\n",
    "from tensorflow.keras.layers import Dropout\n",
    "\n",
    "from tensorflow.keras.optimizers import Adam\n",
    "from tensorflow.keras.metrics import categorical_crossentropy\n",
    "from tensorflow.keras.preprocessing.image import ImageDataGenerator\n",
    "from tensorflow.keras.preprocessing import image\n",
    "\n",
    "from tensorflow.keras.models import Model\n",
    "#from tensorflow.keras.applications import imagenet_utils\n",
    "from tensorflow.keras.layers import Dense,GlobalAveragePooling2D\n",
    "from tensorflow.keras.applications.mobilenet import MobileNet\n",
    "from tensorflow.keras.applications.mobilenet_v2 import MobileNetV2\n",
    "from tensorflow.keras.applications.resnet50 import ResNet50\n",
    "\n",
    "from PIL import Image # used for loading images\n",
    "from tensorflow.keras.applications.mobilenet import preprocess_input\n",
    "import numpy as np\n",
    "#from IPython.display import Image\n",
    "from tensorflow.keras.optimizers import Adam\n",
    "\n",
    "import matplotlib.pyplot as plt\n"
   ]
  },
  {
   "cell_type": "code",
   "execution_count": 2,
   "metadata": {},
   "outputs": [
    {
     "name": "stdout",
     "output_type": "stream",
     "text": [
      "<module 'tensorflow._api.v2.version' from 'C:\\\\Users\\\\werth\\\\AppData\\\\Local\\\\Continuum\\\\anaconda3\\\\envs\\\\workshop\\\\lib\\\\site-packages\\\\tensorflow\\\\_api\\\\v2\\\\version\\\\__init__.py'>\n"
     ]
    }
   ],
   "source": [
    "print(tf.version)"
   ]
  },
  {
   "cell_type": "markdown",
   "metadata": {},
   "source": [
    "# The model\n",
    "## Loading the mobileNet model without top"
   ]
  },
  {
   "cell_type": "code",
   "execution_count": 7,
   "metadata": {},
   "outputs": [],
   "source": [
    "base_model=MobileNetV2(input_shape=(224,224,3), weights='imagenet',include_top=False) #imports the mobilenet model and discards the last 1000 neuron layer.\n",
    "# base_model=ResNet50(weights='imagenet',include_top=False) #imports the mobilenet model and discards the last 1000 neuron layer.\n",
    "\n",
    "x=base_model.output\n",
    "x=GlobalAveragePooling2D()(x)\n",
    "x=Dropout(0.5,seed=42)(x)\n",
    "x=Dense(1024,activation='relu')(x) #we add dense layers so that the model can learn more complex functions and classify for better results.\n",
    "x=Dense(1024,activation='relu')(x) #dense layer 2\n",
    "x=Dense(512,activation='relu')(x) #dense layer 3\n",
    "\n",
    "output=Dense(2,activation='softmax')(x) #final layer with softmax activation\n",
    "\n",
    "#specify the inputs\n",
    "#specify the outputs\n",
    "model=Model(inputs=base_model.input,outputs=output)\n",
    "#now a model has been created based on our architecture"
   ]
  },
  {
   "cell_type": "markdown",
   "metadata": {},
   "source": [
    "## visualize models to compare with and without top"
   ]
  },
  {
   "cell_type": "markdown",
   "metadata": {},
   "source": [
    "Run cell before, once with include_top False and True"
   ]
  },
  {
   "cell_type": "code",
   "execution_count": null,
   "metadata": {},
   "outputs": [],
   "source": [
    "for i,layer in enumerate(model.layers):\n",
    "   print(i,layer.name)\n",
    "    "
   ]
  },
  {
   "cell_type": "markdown",
   "metadata": {},
   "source": [
    "You can also export the graphic to a image file"
   ]
  },
  {
   "cell_type": "code",
   "execution_count": null,
   "metadata": {},
   "outputs": [],
   "source": [
    "from tensorflow.keras.utils import plot_model\n",
    "plot_model(model, to_file='model.png')\n"
   ]
  },
  {
   "cell_type": "markdown",
   "metadata": {},
   "source": [
    "## What happens when removing the last dense layers (on top)?\n",
    "\n",
    "the weights in a convolutional layer are fixed-size. They are the size of the kernel x filters. Example: a 3x3 kernel of 10 filters. A convolutional layer doesn't care about the size of the input image. It just does the convolutions and present a resulting image based on the size of the input image. (Search for some illustrated tutorials about convolutions if this is unclear)\n",
    "\n",
    "now the weights in a dense layer are totally dependent on the input size. It's one weight per element of the input. So this demands that your input be always the same size, or else you won't have proper learned weights.\n",
    "\n",
    "Because of this, removing the final dense layers allows you to define the input size (see in documentation). (And the output size will increase/decrease accordingly)\n",
    "\n",
    "Thanks to great stackoverflower [Daniel Möller](https://stackoverflow.com/users/2097240/daniel-m%c3%b6ller)"
   ]
  },
  {
   "cell_type": "markdown",
   "metadata": {},
   "source": [
    "## Fixing the layers to not be trainable\n",
    "\n",
    "The model is set up like a numpy array where you can reach each layer by itself. You can set now all layers of the base model frozen.\n",
    "important is that after setting layer trainable =False, the model has to `be compile()` to take effect.\n",
    "\n",
    "\n",
    "See Keras [webside](https://keras.io/getting-started/faq/#how-can-i-freeze-keras-layers)"
   ]
  },
  {
   "cell_type": "code",
   "execution_count": 8,
   "metadata": {},
   "outputs": [
    {
     "name": "stdout",
     "output_type": "stream",
     "text": [
      "<tensorflow.python.keras.engine.input_layer.InputLayer object at 0x000001BD80E9E358> False\n",
      "<tensorflow.python.keras.layers.convolutional.ZeroPadding2D object at 0x000001BD80E9E4E0> False\n",
      "<tensorflow.python.keras.layers.convolutional.Conv2D object at 0x000001BD80E9EE10> False\n",
      "<tensorflow.python.keras.layers.normalization.BatchNormalizationV1 object at 0x000001BD80E9EE48> False\n",
      "<tensorflow.python.keras.layers.advanced_activations.ReLU object at 0x000001BD80F9CDA0> False\n",
      "<tensorflow.python.keras.layers.convolutional.DepthwiseConv2D object at 0x000001BD80E78F98> False\n",
      "<tensorflow.python.keras.layers.normalization.BatchNormalizationV1 object at 0x000001BD80F675C0> False\n",
      "<tensorflow.python.keras.layers.advanced_activations.ReLU object at 0x000001BD808AA898> False\n",
      "<tensorflow.python.keras.layers.convolutional.Conv2D object at 0x000001BD81459F60> False\n",
      "<tensorflow.python.keras.layers.normalization.BatchNormalizationV1 object at 0x000001BD81356278> False\n",
      "<tensorflow.python.keras.layers.convolutional.Conv2D object at 0x000001BD80C3CFD0> False\n",
      "<tensorflow.python.keras.layers.normalization.BatchNormalizationV1 object at 0x000001BD80C15E10> False\n",
      "<tensorflow.python.keras.layers.advanced_activations.ReLU object at 0x000001BD810E7588> False\n",
      "<tensorflow.python.keras.layers.convolutional.ZeroPadding2D object at 0x000001BD80A17AC8> False\n",
      "<tensorflow.python.keras.layers.convolutional.DepthwiseConv2D object at 0x000001BD80D621D0> False\n",
      "<tensorflow.python.keras.layers.normalization.BatchNormalizationV1 object at 0x000001BD80CFC9E8> False\n",
      "<tensorflow.python.keras.layers.advanced_activations.ReLU object at 0x000001BD814F35F8> False\n",
      "<tensorflow.python.keras.layers.convolutional.Conv2D object at 0x000001BD80E4FEF0> False\n",
      "<tensorflow.python.keras.layers.normalization.BatchNormalizationV1 object at 0x000001BD8154AD68> False\n",
      "<tensorflow.python.keras.layers.convolutional.Conv2D object at 0x000001BD81585EF0> False\n",
      "<tensorflow.python.keras.layers.normalization.BatchNormalizationV1 object at 0x000001BD815C7A20> False\n",
      "<tensorflow.python.keras.layers.advanced_activations.ReLU object at 0x000001BD816264E0> False\n",
      "<tensorflow.python.keras.layers.convolutional.DepthwiseConv2D object at 0x000001BD815FF9B0> False\n",
      "<tensorflow.python.keras.layers.normalization.BatchNormalizationV1 object at 0x000001BD815FFB00> False\n",
      "<tensorflow.python.keras.layers.advanced_activations.ReLU object at 0x000001BD816BAF98> False\n",
      "<tensorflow.python.keras.layers.convolutional.Conv2D object at 0x000001BD816A5630> False\n",
      "<tensorflow.python.keras.layers.normalization.BatchNormalizationV1 object at 0x000001BD81822BA8> False\n",
      "<tensorflow.python.keras.layers.merge.Add object at 0x000001BD81841E80> False\n",
      "<tensorflow.python.keras.layers.convolutional.Conv2D object at 0x000001BD818ACE10> False\n",
      "<tensorflow.python.keras.layers.normalization.BatchNormalizationV1 object at 0x000001BD81850860> False\n",
      "<tensorflow.python.keras.layers.advanced_activations.ReLU object at 0x000001BD81A3B240> False\n",
      "<tensorflow.python.keras.layers.convolutional.ZeroPadding2D object at 0x000001BD81A16E10> False\n",
      "<tensorflow.python.keras.layers.convolutional.DepthwiseConv2D object at 0x000001BD81A186D8> False\n",
      "<tensorflow.python.keras.layers.normalization.BatchNormalizationV1 object at 0x000001BD81A80668> False\n",
      "<tensorflow.python.keras.layers.advanced_activations.ReLU object at 0x000001BD81AD9278> False\n",
      "<tensorflow.python.keras.layers.convolutional.Conv2D object at 0x000001BD81AB19E8> False\n",
      "<tensorflow.python.keras.layers.normalization.BatchNormalizationV1 object at 0x000001BD81DADF98> False\n",
      "<tensorflow.python.keras.layers.convolutional.Conv2D object at 0x000001BD82EC5BE0> False\n",
      "<tensorflow.python.keras.layers.normalization.BatchNormalizationV1 object at 0x000001BD82F09C88> False\n",
      "<tensorflow.python.keras.layers.advanced_activations.ReLU object at 0x000001BD82F6B198> False\n",
      "<tensorflow.python.keras.layers.convolutional.DepthwiseConv2D object at 0x000001BD82F45A20> False\n",
      "<tensorflow.python.keras.layers.normalization.BatchNormalizationV1 object at 0x000001BD82F45908> False\n",
      "<tensorflow.python.keras.layers.advanced_activations.ReLU object at 0x000001BD83296C18> False\n",
      "<tensorflow.python.keras.layers.convolutional.Conv2D object at 0x000001BD832F0EB8> False\n",
      "<tensorflow.python.keras.layers.normalization.BatchNormalizationV1 object at 0x000001BD83288EF0> False\n",
      "<tensorflow.python.keras.layers.merge.Add object at 0x000001BD8332C6D8> False\n",
      "<tensorflow.python.keras.layers.convolutional.Conv2D object at 0x000001BD8332CB70> False\n",
      "<tensorflow.python.keras.layers.normalization.BatchNormalizationV1 object at 0x000001BD833A5A20> False\n",
      "<tensorflow.python.keras.layers.advanced_activations.ReLU object at 0x000001BD833FCE80> False\n",
      "<tensorflow.python.keras.layers.convolutional.DepthwiseConv2D object at 0x000001BD833E2CF8> False\n",
      "<tensorflow.python.keras.layers.normalization.BatchNormalizationV1 object at 0x000001BD833E25F8> False\n",
      "<tensorflow.python.keras.layers.advanced_activations.ReLU object at 0x000001BD8347EF60> False\n",
      "<tensorflow.python.keras.layers.convolutional.Conv2D object at 0x000001BD8372B9E8> False\n",
      "<tensorflow.python.keras.layers.normalization.BatchNormalizationV1 object at 0x000001BD8348DE80> False\n",
      "<tensorflow.python.keras.layers.merge.Add object at 0x000001BD83779358> False\n",
      "<tensorflow.python.keras.layers.convolutional.Conv2D object at 0x000001BD83754CC0> False\n",
      "<tensorflow.python.keras.layers.normalization.BatchNormalizationV1 object at 0x000001BD837C8748> False\n",
      "<tensorflow.python.keras.layers.advanced_activations.ReLU object at 0x000001BD8381DC18> False\n",
      "<tensorflow.python.keras.layers.convolutional.ZeroPadding2D object at 0x000001BD8386B940> False\n",
      "<tensorflow.python.keras.layers.convolutional.DepthwiseConv2D object at 0x000001BD8387E860> False\n",
      "<tensorflow.python.keras.layers.normalization.BatchNormalizationV1 object at 0x000001BD83805438> False\n",
      "<tensorflow.python.keras.layers.advanced_activations.ReLU object at 0x000001BD840E6CC0> False\n",
      "<tensorflow.python.keras.layers.convolutional.Conv2D object at 0x000001BD8413A9B0> False\n",
      "<tensorflow.python.keras.layers.normalization.BatchNormalizationV1 object at 0x000001BD840D3FD0> False\n",
      "<tensorflow.python.keras.layers.convolutional.Conv2D object at 0x000001BD84176B00> False\n",
      "<tensorflow.python.keras.layers.normalization.BatchNormalizationV1 object at 0x000001BD841FFF60> False\n",
      "<tensorflow.python.keras.layers.advanced_activations.ReLU object at 0x000001BD8423DBA8> False\n",
      "<tensorflow.python.keras.layers.convolutional.DepthwiseConv2D object at 0x000001BD8422C7F0> False\n",
      "<tensorflow.python.keras.layers.normalization.BatchNormalizationV1 object at 0x000001BD8422C828> False\n",
      "<tensorflow.python.keras.layers.advanced_activations.ReLU object at 0x000001BD842CCAC8> False\n",
      "<tensorflow.python.keras.layers.convolutional.Conv2D object at 0x000001BD842F36A0> False\n",
      "<tensorflow.python.keras.layers.normalization.BatchNormalizationV1 object at 0x000001BD84357E80> False\n",
      "<tensorflow.python.keras.layers.merge.Add object at 0x000001BD8439AF60> False\n",
      "<tensorflow.python.keras.layers.convolutional.Conv2D object at 0x000001BD84382828> False\n",
      "<tensorflow.python.keras.layers.normalization.BatchNormalizationV1 object at 0x000001BD843FFDD8> False\n",
      "<tensorflow.python.keras.layers.advanced_activations.ReLU object at 0x000001BD8441DE80> False\n",
      "<tensorflow.python.keras.layers.convolutional.DepthwiseConv2D object at 0x000001BD8449EDA0> False\n",
      "<tensorflow.python.keras.layers.normalization.BatchNormalizationV1 object at 0x000001BD8449ED68> False\n",
      "<tensorflow.python.keras.layers.advanced_activations.ReLU object at 0x000001BD84509470> False\n",
      "<tensorflow.python.keras.layers.convolutional.Conv2D object at 0x000001BD844E1E80> False\n",
      "<tensorflow.python.keras.layers.normalization.BatchNormalizationV1 object at 0x000001BD84580C18> False\n",
      "<tensorflow.python.keras.layers.merge.Add object at 0x000001BD845B1DA0> False\n",
      "<tensorflow.python.keras.layers.convolutional.Conv2D object at 0x000001BD84601A90> False\n",
      "<tensorflow.python.keras.layers.normalization.BatchNormalizationV1 object at 0x000001BD8461CC88> False\n",
      "<tensorflow.python.keras.layers.advanced_activations.ReLU object at 0x000001BD8463FB70> False\n",
      "<tensorflow.python.keras.layers.convolutional.DepthwiseConv2D object at 0x000001BD8463FBA8> False\n",
      "<tensorflow.python.keras.layers.normalization.BatchNormalizationV1 object at 0x000001BD8464E588> False\n",
      "<tensorflow.python.keras.layers.advanced_activations.ReLU object at 0x000001BD8472D1D0> False\n",
      "<tensorflow.python.keras.layers.convolutional.Conv2D object at 0x000001BD846FF860> False\n",
      "<tensorflow.python.keras.layers.normalization.BatchNormalizationV1 object at 0x000001BD84786710> False\n",
      "<tensorflow.python.keras.layers.merge.Add object at 0x000001BD847D4B38> False\n",
      "<tensorflow.python.keras.layers.convolutional.Conv2D object at 0x000001BD847B9518> False\n",
      "<tensorflow.python.keras.layers.normalization.BatchNormalizationV1 object at 0x000001BD84825CF8> False\n",
      "<tensorflow.python.keras.layers.advanced_activations.ReLU object at 0x000001BD84891438> False\n",
      "<tensorflow.python.keras.layers.convolutional.DepthwiseConv2D object at 0x000001BD848639E8> False\n",
      "<tensorflow.python.keras.layers.normalization.BatchNormalizationV1 object at 0x000001BD84863A58> False\n",
      "<tensorflow.python.keras.layers.advanced_activations.ReLU object at 0x000001BD84E6CF28> False\n",
      "<tensorflow.python.keras.layers.convolutional.Conv2D object at 0x000001BD84E4D630> False\n",
      "<tensorflow.python.keras.layers.normalization.BatchNormalizationV1 object at 0x000001BD84ED3CF8> False\n",
      "<tensorflow.python.keras.layers.convolutional.Conv2D object at 0x000001BD84EF7E80> False\n",
      "<tensorflow.python.keras.layers.normalization.BatchNormalizationV1 object at 0x000001BD84F8A908> False\n",
      "<tensorflow.python.keras.layers.advanced_activations.ReLU object at 0x000001BD84FD0E80> False\n",
      "<tensorflow.python.keras.layers.convolutional.DepthwiseConv2D object at 0x000001BD84FC2E10> False\n",
      "<tensorflow.python.keras.layers.normalization.BatchNormalizationV1 object at 0x000001BD84FB5908> False\n",
      "<tensorflow.python.keras.layers.advanced_activations.ReLU object at 0x000001BD8505BF60> False\n",
      "<tensorflow.python.keras.layers.convolutional.Conv2D object at 0x000001BD8508A940> False\n",
      "<tensorflow.python.keras.layers.normalization.BatchNormalizationV1 object at 0x000001BD8506DF98> False\n",
      "<tensorflow.python.keras.layers.merge.Add object at 0x000001BD851442E8> False\n",
      "<tensorflow.python.keras.layers.convolutional.Conv2D object at 0x000001BD8511DA20> False\n",
      "<tensorflow.python.keras.layers.normalization.BatchNormalizationV1 object at 0x000001BD851A5E80> False\n",
      "<tensorflow.python.keras.layers.advanced_activations.ReLU object at 0x000001BD851EFBA8> False\n",
      "<tensorflow.python.keras.layers.convolutional.DepthwiseConv2D object at 0x000001BD851D67F0> False\n",
      "<tensorflow.python.keras.layers.normalization.BatchNormalizationV1 object at 0x000001BD851D6828> False\n",
      "<tensorflow.python.keras.layers.advanced_activations.ReLU object at 0x000001BD85281EB8> False\n",
      "<tensorflow.python.keras.layers.convolutional.Conv2D object at 0x000001BD85281C88> False\n",
      "<tensorflow.python.keras.layers.normalization.BatchNormalizationV1 object at 0x000001BD85310EB8> False\n",
      "<tensorflow.python.keras.layers.merge.Add object at 0x000001BD8535CFD0> False\n",
      "<tensorflow.python.keras.layers.convolutional.Conv2D object at 0x000001BD8533E898> False\n",
      "<tensorflow.python.keras.layers.normalization.BatchNormalizationV1 object at 0x000001BD853BF588> False\n",
      "<tensorflow.python.keras.layers.advanced_activations.ReLU object at 0x000001BD853E0FD0> False\n",
      "<tensorflow.python.keras.layers.convolutional.ZeroPadding2D object at 0x000001BD85462A20> False\n",
      "<tensorflow.python.keras.layers.convolutional.DepthwiseConv2D object at 0x000001BD85462E10> False\n",
      "<tensorflow.python.keras.layers.normalization.BatchNormalizationV1 object at 0x000001BD853F6278> False\n",
      "<tensorflow.python.keras.layers.advanced_activations.ReLU object at 0x000001BD854A4FD0> False\n",
      "<tensorflow.python.keras.layers.convolutional.Conv2D object at 0x000001BD855349E8> False\n",
      "<tensorflow.python.keras.layers.normalization.BatchNormalizationV1 object at 0x000001BD854AFF28> False\n",
      "<tensorflow.python.keras.layers.convolutional.Conv2D object at 0x000001BD85588358> False\n",
      "<tensorflow.python.keras.layers.normalization.BatchNormalizationV1 object at 0x000001BD855DE2E8> False\n",
      "<tensorflow.python.keras.layers.advanced_activations.ReLU object at 0x000001BD85603E48> False\n",
      "<tensorflow.python.keras.layers.convolutional.DepthwiseConv2D object at 0x000001BD85683DD8> False\n",
      "<tensorflow.python.keras.layers.normalization.BatchNormalizationV1 object at 0x000001BD85683C88> False\n",
      "<tensorflow.python.keras.layers.advanced_activations.ReLU object at 0x000001BD856F0390> False\n",
      "<tensorflow.python.keras.layers.convolutional.Conv2D object at 0x000001BD856C7C50> False\n",
      "<tensorflow.python.keras.layers.normalization.BatchNormalizationV1 object at 0x000001BD85766BA8> False\n",
      "<tensorflow.python.keras.layers.merge.Add object at 0x000001BD8579DD30> False\n",
      "<tensorflow.python.keras.layers.convolutional.Conv2D object at 0x000001BD857EC780> False\n",
      "<tensorflow.python.keras.layers.normalization.BatchNormalizationV1 object at 0x000001BD86393C50> False\n",
      "<tensorflow.python.keras.layers.advanced_activations.ReLU object at 0x000001BD863B5B00> False\n",
      "<tensorflow.python.keras.layers.convolutional.DepthwiseConv2D object at 0x000001BD863B5978> False\n",
      "<tensorflow.python.keras.layers.normalization.BatchNormalizationV1 object at 0x000001BD863C63C8> False\n",
      "<tensorflow.python.keras.layers.advanced_activations.ReLU object at 0x000001BD864A8160> False\n",
      "<tensorflow.python.keras.layers.convolutional.Conv2D object at 0x000001BD864797F0> False\n",
      "<tensorflow.python.keras.layers.normalization.BatchNormalizationV1 object at 0x000001BD864FF780> False\n",
      "<tensorflow.python.keras.layers.merge.Add object at 0x000001BD8654CB00> False\n",
      "<tensorflow.python.keras.layers.convolutional.Conv2D object at 0x000001BD86533470> False\n",
      "<tensorflow.python.keras.layers.normalization.BatchNormalizationV1 object at 0x000001BD8659D7F0> False\n",
      "<tensorflow.python.keras.layers.advanced_activations.ReLU object at 0x000001BD86606400> False\n",
      "<tensorflow.python.keras.layers.convolutional.DepthwiseConv2D object at 0x000001BD865DE898> False\n",
      "<tensorflow.python.keras.layers.normalization.BatchNormalizationV1 object at 0x000001BD865DE860> False\n",
      "<tensorflow.python.keras.layers.advanced_activations.ReLU object at 0x000001BD866B5EB8> False\n",
      "<tensorflow.python.keras.layers.convolutional.Conv2D object at 0x000001BD866975C0> False\n",
      "<tensorflow.python.keras.layers.normalization.BatchNormalizationV1 object at 0x000001BD8671DDD8> False\n",
      "<tensorflow.python.keras.layers.convolutional.Conv2D object at 0x000001BD8673DE80> False\n",
      "<tensorflow.python.keras.layers.normalization.BatchNormalizationV1 object at 0x000001BD867BE5C0> False\n",
      "<tensorflow.python.keras.layers.advanced_activations.ReLU object at 0x000001BD86B98E48> True\n",
      "<tensorflow.python.keras.layers.pooling.GlobalAveragePooling2D object at 0x000001BD867F6128> True\n",
      "<tensorflow.python.keras.layers.core.Dropout object at 0x000001BD80E9E390> True\n",
      "<tensorflow.python.keras.layers.core.Dense object at 0x000001BD838054A8> True\n",
      "<tensorflow.python.keras.layers.core.Dense object at 0x000001BD86C73A20> True\n",
      "<tensorflow.python.keras.layers.core.Dense object at 0x000001BD86C77390> True\n",
      "<tensorflow.python.keras.layers.core.Dense object at 0x000001BD86DEDC18> True\n"
     ]
    }
   ],
   "source": [
    "# freez all layers before dense output \n",
    "n=154 #mobileNet,  \n",
    "# n=174 #ResNet50\n",
    "for layer in model.layers[:n]:\n",
    "    layer.trainable=False\n",
    "for layer in model.layers[n:]:\n",
    "    layer.trainable=True\n",
    "    \n",
    "    \n",
    "for layer in model.layers: print(layer, layer.trainable)              "
   ]
  },
  {
   "cell_type": "code",
   "execution_count": null,
   "metadata": {},
   "outputs": [],
   "source": [
    "model.summary()"
   ]
  },
  {
   "cell_type": "code",
   "execution_count": 10,
   "metadata": {},
   "outputs": [],
   "source": [
    "opt = tf.keras.optimizers.Adam()\n",
    "# opt = tf.keras.optimizers.SGD(lr=0.001, momentum=0.99)#, clipvalue=0.5,\n",
    "model.compile(optimizer=opt,loss='categorical_crossentropy',metrics=['accuracy'])\n",
    "\n"
   ]
  },
  {
   "cell_type": "markdown",
   "metadata": {},
   "source": [
    "For optimal throughput you can use a double-buffering approach where the next request is already being prepared (by the CPU) while the current one is still being processed (by the GPU). This way the CPU and GPU are never waiting for one another.\n",
    "\n",
    "---"
   ]
  },
  {
   "cell_type": "markdown",
   "metadata": {},
   "source": [
    "# Training model\n",
    "## Loading the data with data generator\n",
    "\n",
    "Now we use the generator function again to load the data for training"
   ]
  },
  {
   "cell_type": "code",
   "execution_count": 11,
   "metadata": {},
   "outputs": [
    {
     "name": "stdout",
     "output_type": "stream",
     "text": [
      "Found 236 images belonging to 2 classes.\n",
      "Found 58 images belonging to 2 classes.\n"
     ]
    }
   ],
   "source": [
    "datagen =ImageDataGenerator(rescale=1.0/255.0,\n",
    "                                     rotation_range=40,\n",
    "                                     width_shift_range=0.2,\n",
    "                                     height_shift_range=0.2,\n",
    "                                     shear_range=0.2,\n",
    "                                     zoom_range=[0.5,1.0],\n",
    "                                     brightness_range=[0.2,1.0],              \n",
    "                                     horizontal_flip=True,\n",
    "                                     fill_mode='nearest',\n",
    "                                     data_format='channels_last'\n",
    "                           )\n",
    "\n",
    "#datadirectory='E:/fotos/haende/gen_structured/input/'\n",
    "#Tsize=[512,512]\n",
    "datadirectory='./Data/Hands_orig_224_224/input/'\n",
    "Tsize=[224,224]\n",
    " \n",
    "train_batch_generator =datagen.flow_from_directory(directory=datadirectory + \"Train/\",\n",
    "                                     classes=['Faust', 'Offen'],\n",
    "                                     target_size=Tsize,\n",
    "                                     class_mode='categorical',              \n",
    "                                     batch_size=20,\n",
    "                                     color_mode='rgb',\n",
    "                                     shuffle=True,\n",
    "                                     seed=42)\n",
    "\n",
    "valid_batch_generator =datagen.flow_from_directory(directory=datadirectory + \"Validate/\",\n",
    "                                     classes=['Faust', 'Offen'],\n",
    "                                     target_size=Tsize,\n",
    "                                     class_mode='categorical',\n",
    "                                     #batch_size=10,\n",
    "                                     color_mode='rgb',\n",
    "                                     shuffle=True,\n",
    "                                     seed=42)\n",
    "\n",
    "#img_batch = next(batches)\n",
    "\n"
   ]
  },
  {
   "cell_type": "markdown",
   "metadata": {},
   "source": [
    "## Callbacks"
   ]
  },
  {
   "cell_type": "code",
   "execution_count": 12,
   "metadata": {},
   "outputs": [],
   "source": [
    "import os\n",
    "# filepath='./models/ResNet50.h5'\n",
    "filepath='./models/RMobileNetV2h5.h5'\n",
    "\n",
    "Checkpoint_callback=tf.keras.callbacks.ModelCheckpoint(\n",
    "    filepath=filepath,               \n",
    "    monitor='val_accuracy',\n",
    "    verbose=0, \n",
    "    save_best_only=True, \n",
    "    save_weights_only=False, \n",
    "    mode='auto', \n",
    "    period=1)\n",
    "\n",
    "\n",
    "stop_callback=keras.callbacks.EarlyStopping(\n",
    "    monitor='val_loss', \n",
    "    min_delta=0.01, \n",
    "    patience=20, \n",
    "    restore_best_weights=True)"
   ]
  },
  {
   "cell_type": "markdown",
   "metadata": {},
   "source": [
    "## Training the model"
   ]
  },
  {
   "cell_type": "code",
   "execution_count": 13,
   "metadata": {},
   "outputs": [
    {
     "name": "stdout",
     "output_type": "stream",
     "text": [
      "Epoch 1/10\n",
      "60/60 [==============================] - 132s 2s/step - loss: 0.5134 - accuracy: 0.7898 - val_loss: 0.2688 - val_accuracy: 0.8793\n",
      "Epoch 2/10\n",
      "60/60 [==============================] - 134s 2s/step - loss: 0.3380 - accuracy: 0.8466 - val_loss: 0.2506 - val_accuracy: 0.9138\n",
      "Epoch 3/10\n",
      "60/60 [==============================] - 141s 2s/step - loss: 0.3559 - accuracy: 0.8398 - val_loss: 0.4709 - val_accuracy: 0.7586\n",
      "Epoch 4/10\n",
      "60/60 [==============================] - 138s 2s/step - loss: 0.2777 - accuracy: 0.8797 - val_loss: 0.2951 - val_accuracy: 0.8621\n",
      "Epoch 5/10\n",
      "60/60 [==============================] - 128s 2s/step - loss: 0.3219 - accuracy: 0.8661 - val_loss: 0.4792 - val_accuracy: 0.7414\n",
      "Epoch 6/10\n",
      "10/60 [====>.........................] - ETA: 1:55 - loss: 0.3007 - accuracy: 0.8878"
     ]
    },
    {
     "ename": "KeyboardInterrupt",
     "evalue": "",
     "output_type": "error",
     "traceback": [
      "\u001b[1;31m---------------------------------------------------------------------------\u001b[0m",
      "\u001b[1;31mKeyboardInterrupt\u001b[0m                         Traceback (most recent call last)",
      "\u001b[1;32m<timed exec>\u001b[0m in \u001b[0;36m<module>\u001b[1;34m\u001b[0m\n",
      "\u001b[1;32m~\\AppData\\Local\\Continuum\\anaconda3\\envs\\workshop\\lib\\site-packages\\tensorflow\\python\\keras\\engine\\training.py\u001b[0m in \u001b[0;36mfit_generator\u001b[1;34m(self, generator, steps_per_epoch, epochs, verbose, callbacks, validation_data, validation_steps, validation_freq, class_weight, max_queue_size, workers, use_multiprocessing, shuffle, initial_epoch)\u001b[0m\n\u001b[0;32m   1513\u001b[0m         \u001b[0mshuffle\u001b[0m\u001b[1;33m=\u001b[0m\u001b[0mshuffle\u001b[0m\u001b[1;33m,\u001b[0m\u001b[1;33m\u001b[0m\u001b[1;33m\u001b[0m\u001b[0m\n\u001b[0;32m   1514\u001b[0m         \u001b[0minitial_epoch\u001b[0m\u001b[1;33m=\u001b[0m\u001b[0minitial_epoch\u001b[0m\u001b[1;33m,\u001b[0m\u001b[1;33m\u001b[0m\u001b[1;33m\u001b[0m\u001b[0m\n\u001b[1;32m-> 1515\u001b[1;33m         steps_name='steps_per_epoch')\n\u001b[0m\u001b[0;32m   1516\u001b[0m \u001b[1;33m\u001b[0m\u001b[0m\n\u001b[0;32m   1517\u001b[0m   def evaluate_generator(self,\n",
      "\u001b[1;32m~\\AppData\\Local\\Continuum\\anaconda3\\envs\\workshop\\lib\\site-packages\\tensorflow\\python\\keras\\engine\\training_generator.py\u001b[0m in \u001b[0;36mmodel_iteration\u001b[1;34m(model, data, steps_per_epoch, epochs, verbose, callbacks, validation_data, validation_steps, validation_freq, class_weight, max_queue_size, workers, use_multiprocessing, shuffle, initial_epoch, mode, batch_size, steps_name, **kwargs)\u001b[0m\n\u001b[0;32m    255\u001b[0m \u001b[1;33m\u001b[0m\u001b[0m\n\u001b[0;32m    256\u001b[0m       \u001b[0mis_deferred\u001b[0m \u001b[1;33m=\u001b[0m \u001b[1;32mnot\u001b[0m \u001b[0mmodel\u001b[0m\u001b[1;33m.\u001b[0m\u001b[0m_is_compiled\u001b[0m\u001b[1;33m\u001b[0m\u001b[1;33m\u001b[0m\u001b[0m\n\u001b[1;32m--> 257\u001b[1;33m       \u001b[0mbatch_outs\u001b[0m \u001b[1;33m=\u001b[0m \u001b[0mbatch_function\u001b[0m\u001b[1;33m(\u001b[0m\u001b[1;33m*\u001b[0m\u001b[0mbatch_data\u001b[0m\u001b[1;33m)\u001b[0m\u001b[1;33m\u001b[0m\u001b[1;33m\u001b[0m\u001b[0m\n\u001b[0m\u001b[0;32m    258\u001b[0m       \u001b[1;32mif\u001b[0m \u001b[1;32mnot\u001b[0m \u001b[0misinstance\u001b[0m\u001b[1;33m(\u001b[0m\u001b[0mbatch_outs\u001b[0m\u001b[1;33m,\u001b[0m \u001b[0mlist\u001b[0m\u001b[1;33m)\u001b[0m\u001b[1;33m:\u001b[0m\u001b[1;33m\u001b[0m\u001b[1;33m\u001b[0m\u001b[0m\n\u001b[0;32m    259\u001b[0m         \u001b[0mbatch_outs\u001b[0m \u001b[1;33m=\u001b[0m \u001b[1;33m[\u001b[0m\u001b[0mbatch_outs\u001b[0m\u001b[1;33m]\u001b[0m\u001b[1;33m\u001b[0m\u001b[1;33m\u001b[0m\u001b[0m\n",
      "\u001b[1;32m~\\AppData\\Local\\Continuum\\anaconda3\\envs\\workshop\\lib\\site-packages\\tensorflow\\python\\keras\\engine\\training.py\u001b[0m in \u001b[0;36mtrain_on_batch\u001b[1;34m(self, x, y, sample_weight, class_weight, reset_metrics)\u001b[0m\n\u001b[0;32m   1257\u001b[0m       \u001b[1;32melse\u001b[0m\u001b[1;33m:\u001b[0m\u001b[1;33m\u001b[0m\u001b[1;33m\u001b[0m\u001b[0m\n\u001b[0;32m   1258\u001b[0m         \u001b[0mself\u001b[0m\u001b[1;33m.\u001b[0m\u001b[0m_make_fit_function\u001b[0m\u001b[1;33m(\u001b[0m\u001b[1;33m)\u001b[0m\u001b[1;33m\u001b[0m\u001b[1;33m\u001b[0m\u001b[0m\n\u001b[1;32m-> 1259\u001b[1;33m         \u001b[0moutputs\u001b[0m \u001b[1;33m=\u001b[0m \u001b[0mself\u001b[0m\u001b[1;33m.\u001b[0m\u001b[0m_fit_function\u001b[0m\u001b[1;33m(\u001b[0m\u001b[0mins\u001b[0m\u001b[1;33m)\u001b[0m  \u001b[1;31m# pylint: disable=not-callable\u001b[0m\u001b[1;33m\u001b[0m\u001b[1;33m\u001b[0m\u001b[0m\n\u001b[0m\u001b[0;32m   1260\u001b[0m \u001b[1;33m\u001b[0m\u001b[0m\n\u001b[0;32m   1261\u001b[0m     \u001b[1;32mif\u001b[0m \u001b[0mreset_metrics\u001b[0m\u001b[1;33m:\u001b[0m\u001b[1;33m\u001b[0m\u001b[1;33m\u001b[0m\u001b[0m\n",
      "\u001b[1;32m~\\AppData\\Local\\Continuum\\anaconda3\\envs\\workshop\\lib\\site-packages\\tensorflow\\python\\keras\\backend.py\u001b[0m in \u001b[0;36m__call__\u001b[1;34m(self, inputs)\u001b[0m\n\u001b[0;32m   3215\u001b[0m         \u001b[0mvalue\u001b[0m \u001b[1;33m=\u001b[0m \u001b[0mmath_ops\u001b[0m\u001b[1;33m.\u001b[0m\u001b[0mcast\u001b[0m\u001b[1;33m(\u001b[0m\u001b[0mvalue\u001b[0m\u001b[1;33m,\u001b[0m \u001b[0mtensor\u001b[0m\u001b[1;33m.\u001b[0m\u001b[0mdtype\u001b[0m\u001b[1;33m)\u001b[0m\u001b[1;33m\u001b[0m\u001b[1;33m\u001b[0m\u001b[0m\n\u001b[0;32m   3216\u001b[0m       \u001b[0mconverted_inputs\u001b[0m\u001b[1;33m.\u001b[0m\u001b[0mappend\u001b[0m\u001b[1;33m(\u001b[0m\u001b[0mvalue\u001b[0m\u001b[1;33m)\u001b[0m\u001b[1;33m\u001b[0m\u001b[1;33m\u001b[0m\u001b[0m\n\u001b[1;32m-> 3217\u001b[1;33m     \u001b[0moutputs\u001b[0m \u001b[1;33m=\u001b[0m \u001b[0mself\u001b[0m\u001b[1;33m.\u001b[0m\u001b[0m_graph_fn\u001b[0m\u001b[1;33m(\u001b[0m\u001b[1;33m*\u001b[0m\u001b[0mconverted_inputs\u001b[0m\u001b[1;33m)\u001b[0m\u001b[1;33m\u001b[0m\u001b[1;33m\u001b[0m\u001b[0m\n\u001b[0m\u001b[0;32m   3218\u001b[0m     return nest.pack_sequence_as(self._outputs_structure,\n\u001b[0;32m   3219\u001b[0m                                  [x.numpy() for x in outputs])\n",
      "\u001b[1;32m~\\AppData\\Local\\Continuum\\anaconda3\\envs\\workshop\\lib\\site-packages\\tensorflow\\python\\eager\\function.py\u001b[0m in \u001b[0;36m__call__\u001b[1;34m(self, *args, **kwargs)\u001b[0m\n\u001b[0;32m    556\u001b[0m       raise TypeError(\"Keyword arguments {} unknown. Expected {}.\".format(\n\u001b[0;32m    557\u001b[0m           list(kwargs.keys()), list(self._arg_keywords)))\n\u001b[1;32m--> 558\u001b[1;33m     \u001b[1;32mreturn\u001b[0m \u001b[0mself\u001b[0m\u001b[1;33m.\u001b[0m\u001b[0m_call_flat\u001b[0m\u001b[1;33m(\u001b[0m\u001b[0margs\u001b[0m\u001b[1;33m)\u001b[0m\u001b[1;33m\u001b[0m\u001b[1;33m\u001b[0m\u001b[0m\n\u001b[0m\u001b[0;32m    559\u001b[0m \u001b[1;33m\u001b[0m\u001b[0m\n\u001b[0;32m    560\u001b[0m   \u001b[1;32mdef\u001b[0m \u001b[0m_filtered_call\u001b[0m\u001b[1;33m(\u001b[0m\u001b[0mself\u001b[0m\u001b[1;33m,\u001b[0m \u001b[0margs\u001b[0m\u001b[1;33m,\u001b[0m \u001b[0mkwargs\u001b[0m\u001b[1;33m)\u001b[0m\u001b[1;33m:\u001b[0m\u001b[1;33m\u001b[0m\u001b[1;33m\u001b[0m\u001b[0m\n",
      "\u001b[1;32m~\\AppData\\Local\\Continuum\\anaconda3\\envs\\workshop\\lib\\site-packages\\tensorflow\\python\\eager\\function.py\u001b[0m in \u001b[0;36m_call_flat\u001b[1;34m(self, args)\u001b[0m\n\u001b[0;32m    625\u001b[0m     \u001b[1;31m# Only need to override the gradient in graph mode and when we have outputs.\u001b[0m\u001b[1;33m\u001b[0m\u001b[1;33m\u001b[0m\u001b[1;33m\u001b[0m\u001b[0m\n\u001b[0;32m    626\u001b[0m     \u001b[1;32mif\u001b[0m \u001b[0mcontext\u001b[0m\u001b[1;33m.\u001b[0m\u001b[0mexecuting_eagerly\u001b[0m\u001b[1;33m(\u001b[0m\u001b[1;33m)\u001b[0m \u001b[1;32mor\u001b[0m \u001b[1;32mnot\u001b[0m \u001b[0mself\u001b[0m\u001b[1;33m.\u001b[0m\u001b[0moutputs\u001b[0m\u001b[1;33m:\u001b[0m\u001b[1;33m\u001b[0m\u001b[1;33m\u001b[0m\u001b[0m\n\u001b[1;32m--> 627\u001b[1;33m       \u001b[0moutputs\u001b[0m \u001b[1;33m=\u001b[0m \u001b[0mself\u001b[0m\u001b[1;33m.\u001b[0m\u001b[0m_inference_function\u001b[0m\u001b[1;33m.\u001b[0m\u001b[0mcall\u001b[0m\u001b[1;33m(\u001b[0m\u001b[0mctx\u001b[0m\u001b[1;33m,\u001b[0m \u001b[0margs\u001b[0m\u001b[1;33m)\u001b[0m\u001b[1;33m\u001b[0m\u001b[1;33m\u001b[0m\u001b[0m\n\u001b[0m\u001b[0;32m    628\u001b[0m     \u001b[1;32melse\u001b[0m\u001b[1;33m:\u001b[0m\u001b[1;33m\u001b[0m\u001b[1;33m\u001b[0m\u001b[0m\n\u001b[0;32m    629\u001b[0m       \u001b[0mself\u001b[0m\u001b[1;33m.\u001b[0m\u001b[0m_register_gradient\u001b[0m\u001b[1;33m(\u001b[0m\u001b[1;33m)\u001b[0m\u001b[1;33m\u001b[0m\u001b[1;33m\u001b[0m\u001b[0m\n",
      "\u001b[1;32m~\\AppData\\Local\\Continuum\\anaconda3\\envs\\workshop\\lib\\site-packages\\tensorflow\\python\\eager\\function.py\u001b[0m in \u001b[0;36mcall\u001b[1;34m(self, ctx, args)\u001b[0m\n\u001b[0;32m    413\u001b[0m             attrs=(\"executor_type\", executor_type,\n\u001b[0;32m    414\u001b[0m                    \"config_proto\", config),\n\u001b[1;32m--> 415\u001b[1;33m             ctx=ctx)\n\u001b[0m\u001b[0;32m    416\u001b[0m       \u001b[1;31m# Replace empty list with None\u001b[0m\u001b[1;33m\u001b[0m\u001b[1;33m\u001b[0m\u001b[1;33m\u001b[0m\u001b[0m\n\u001b[0;32m    417\u001b[0m       \u001b[0moutputs\u001b[0m \u001b[1;33m=\u001b[0m \u001b[0moutputs\u001b[0m \u001b[1;32mor\u001b[0m \u001b[1;32mNone\u001b[0m\u001b[1;33m\u001b[0m\u001b[1;33m\u001b[0m\u001b[0m\n",
      "\u001b[1;32m~\\AppData\\Local\\Continuum\\anaconda3\\envs\\workshop\\lib\\site-packages\\tensorflow\\python\\eager\\execute.py\u001b[0m in \u001b[0;36mquick_execute\u001b[1;34m(op_name, num_outputs, inputs, attrs, ctx, name)\u001b[0m\n\u001b[0;32m     58\u001b[0m     tensors = pywrap_tensorflow.TFE_Py_Execute(ctx._handle, device_name,\n\u001b[0;32m     59\u001b[0m                                                \u001b[0mop_name\u001b[0m\u001b[1;33m,\u001b[0m \u001b[0minputs\u001b[0m\u001b[1;33m,\u001b[0m \u001b[0mattrs\u001b[0m\u001b[1;33m,\u001b[0m\u001b[1;33m\u001b[0m\u001b[1;33m\u001b[0m\u001b[0m\n\u001b[1;32m---> 60\u001b[1;33m                                                num_outputs)\n\u001b[0m\u001b[0;32m     61\u001b[0m   \u001b[1;32mexcept\u001b[0m \u001b[0mcore\u001b[0m\u001b[1;33m.\u001b[0m\u001b[0m_NotOkStatusException\u001b[0m \u001b[1;32mas\u001b[0m \u001b[0me\u001b[0m\u001b[1;33m:\u001b[0m\u001b[1;33m\u001b[0m\u001b[1;33m\u001b[0m\u001b[0m\n\u001b[0;32m     62\u001b[0m     \u001b[1;32mif\u001b[0m \u001b[0mname\u001b[0m \u001b[1;32mis\u001b[0m \u001b[1;32mnot\u001b[0m \u001b[1;32mNone\u001b[0m\u001b[1;33m:\u001b[0m\u001b[1;33m\u001b[0m\u001b[1;33m\u001b[0m\u001b[0m\n",
      "\u001b[1;31mKeyboardInterrupt\u001b[0m: "
     ]
    }
   ],
   "source": [
    "%%time\n",
    "step_size_train=train_batch_generator.n//train_batch_generator.batch_size\n",
    "step_size_valid=valid_batch_generator.n//valid_batch_generator.batch_size\n",
    "\n",
    "step_size_train=60 # If we use Data augmentation with fit_generator, you can use more samples than you have, as they are generated differently on the fly\n",
    "\n",
    "\n",
    "\n",
    "history=model.fit_generator(generator=train_batch_generator,\n",
    "                    steps_per_epoch=step_size_train,\n",
    "                    validation_data=valid_batch_generator,\n",
    "                    epochs=10,\n",
    "                    callbacks=[Checkpoint_callback])"
   ]
  },
  {
   "cell_type": "markdown",
   "metadata": {},
   "source": [
    "# Evaluating the model \n",
    "\n",
    "## Tensorboard\n",
    "\n",
    "before training the model we activate tensorboard. Tensorboard can monitor the training and validation of the model and visualize the process. Thereby we can identify where optimization is needed.\n",
    "\n",
    "you can load the tensorboard in another tab"
   ]
  },
  {
   "cell_type": "code",
   "execution_count": null,
   "metadata": {},
   "outputs": [],
   "source": [
    "def tb(logdir=\"logs\", port=6006, open_tab=True, sleep=2):\n",
    "    import subprocess\n",
    "    proc = subprocess.Popen(\n",
    "        \"tensorboard --logdir={0} --port={1}\".format(logdir, port), shell=True)\n",
    "    if open_tab:\n",
    "        import time\n",
    "        time.sleep(sleep)\n",
    "        import webbrowser\n",
    "        webbrowser.open(\"http://127.0.0.1:{}/\".format(port))\n",
    "    return proc\n",
    "\n",
    "server1=tb()               # Starts a TensorBoard server on the logs directory, on port 6006\n",
    "                           # and opens a new tab in your browser to use it.\n",
    "\n",
    "#server2=tb(\"logs2\", 6007)  # Starts a second server on the logs2 directory, on port 6007,\n",
    "                            # and opens a new tab to use it."
   ]
  },
  {
   "cell_type": "code",
   "execution_count": null,
   "metadata": {},
   "outputs": [],
   "source": [
    "# and later...\n",
    "server1.kill()  # stops the first server  "
   ]
  },
  {
   "cell_type": "markdown",
   "metadata": {},
   "source": [
    "Or you can use the Tensorboard within jupyter notebook with the new Tensorflow2. It depends on your preferrence what suits your style better"
   ]
  },
  {
   "cell_type": "code",
   "execution_count": null,
   "metadata": {},
   "outputs": [],
   "source": [
    "import datetime, os\n",
    "%load_ext tensorboard.notebook\n",
    "\n",
    "logs_base_dir = \".\\logs\"#create folder for \n",
    "os.makedirs(logs_base_dir, exist_ok=True)\n",
    "%tensorboard --logdir {logs_base_dir}\n",
    "\n",
    "logdir = os.path.join(logs_base_dir, datetime.datetime.now().strftime(\"%Y%m%d-%H%M%S\"))\n",
    "tensorboard_callback = tf.keras.callbacks.TensorBoard(logdir, histogram_freq=1)"
   ]
  },
  {
   "cell_type": "markdown",
   "metadata": {},
   "source": [
    "To kill a Tensorboard in Windows use CMD : taskkill /IM \"tensorboard.exe\" /F"
   ]
  },
  {
   "cell_type": "markdown",
   "metadata": {},
   "source": [
    "Alternatively you can also use a file writer and save the information in the folder. Than you can call the tensorboard via the console and open tensorboard in another tab"
   ]
  },
  {
   "cell_type": "code",
   "execution_count": null,
   "metadata": {},
   "outputs": [],
   "source": [
    "writer = tf.summary.FileWriter( \"./logs\", tf.get_default_graph())\n",
    "%tensorboard --logdir=.\\logs"
   ]
  },
  {
   "cell_type": "markdown",
   "metadata": {},
   "source": [
    "# Simply printing the history"
   ]
  },
  {
   "cell_type": "code",
   "execution_count": 77,
   "metadata": {},
   "outputs": [
    {
     "name": "stdout",
     "output_type": "stream",
     "text": [
      "dict_keys(['loss', 'accuracy', 'val_loss', 'val_accuracy'])\n"
     ]
    }
   ],
   "source": [
    "print(history.history.keys())\n"
   ]
  },
  {
   "cell_type": "code",
   "execution_count": 155,
   "metadata": {},
   "outputs": [
    {
     "data": {
      "image/png": "[encoded data removed]",
      "text/plain": [
       "<Figure size 432x288 with 1 Axes>"
      ]
     },
     "metadata": {
      "needs_background": "light"
     },
     "output_type": "display_data"
    },
    {
     "data": {
      "image/png": "[encoded data removed]",
      "text/plain": [
       "<Figure size 432x288 with 1 Axes>"
      ]
     },
     "metadata": {
      "needs_background": "light"
     },
     "output_type": "display_data"
    }
   ],
   "source": [
    "# summarize history for accuracy\n",
    "plt.plot(history.history['accuracy'])\n",
    "plt.plot(history.history['val_accuracy'])\n",
    "plt.ylabel('accuracy')\n",
    "plt.xlabel('epoch')\n",
    "plt.legend(['train', 'test'], loc='upper left')\n",
    "plt.show()\n",
    "\n",
    "plt.plot(history.history['loss'])\n",
    "plt.plot(history.history['val_loss'])\n",
    "plt.title('model loss')\n",
    "plt.ylabel('loss')\n",
    "plt.xlabel('epoch')\n",
    "plt.legend(['train', 'test'], loc='upper left')\n",
    "plt.show()"
   ]
  },
  {
   "cell_type": "markdown",
   "metadata": {},
   "source": [
    "#  Saving the model"
   ]
  },
  {
   "cell_type": "code",
   "execution_count": 156,
   "metadata": {},
   "outputs": [
    {
     "data": {
      "text/plain": [
       "'./pb_models/MobileNetV2'"
      ]
     },
     "execution_count": 156,
     "metadata": {},
     "output_type": "execute_result"
    }
   ],
   "source": [
    "import time\n",
    "import os\n",
    "name='MobileNetV2'\n",
    "saved_model_path = './pb_models/' + name \n",
    "os.mkdir(saved_model_path)\n",
    "tf.saved_model.save(model, saved_model_path)\n",
    "saved_model_path"
   ]
  },
  {
   "cell_type": "markdown",
   "metadata": {},
   "source": [
    "## Saving a model able to be served "
   ]
  },
  {
   "cell_type": "code",
   "execution_count": null,
   "metadata": {},
   "outputs": [],
   "source": [
    "import time\n",
    "saved_model_path = \"./pb_models/experimental/{}\".format(int(time.time()))\n",
    "\n",
    "tf.keras.experimental.export_saved_model(model, saved_model_path)\n",
    "saved_model_path"
   ]
  }
 ],
 "metadata": {
  "kernelspec": {
   "display_name": "Python 3",
   "language": "python",
   "name": "python3"
  },
  "language_info": {
   "codemirror_mode": {
    "name": "ipython",
    "version": 3
   },
   "file_extension": ".py",
   "mimetype": "text/x-python",
   "name": "python",
   "nbconvert_exporter": "python",
   "pygments_lexer": "ipython3",
   "version": "3.7.3"
  },
  "toc": {
   "base_numbering": 1,
   "nav_menu": {},
   "number_sections": true,
   "sideBar": true,
   "skip_h1_title": false,
   "title_cell": "Table of Contents",
   "title_sidebar": "Contents",
   "toc_cell": false,
   "toc_position": {
    "height": "calc(100% - 180px)",
    "left": "10px",
    "top": "150px",
    "width": "189.367px"
   },
   "toc_section_display": true,
   "toc_window_display": true
  },
  "varInspector": {
   "cols": {
    "lenName": 16,
    "lenType": 16,
    "lenVar": 40
   },
   "kernels_config": {
    "python": {
     "delete_cmd_postfix": "",
     "delete_cmd_prefix": "del ",
     "library": "var_list.py",
     "varRefreshCmd": "print(var_dic_list())"
    },
    "r": {
     "delete_cmd_postfix": ") ",
     "delete_cmd_prefix": "rm(",
     "library": "var_list.r",
     "varRefreshCmd": "cat(var_dic_list()) "
    }
   },
   "types_to_exclude": [
    "module",
    "function",
    "builtin_function_or_method",
    "instance",
    "_Feature"
   ],
   "window_display": false
  }
 },
 "nbformat": 4,
 "nbformat_minor": 2
}
