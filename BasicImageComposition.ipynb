{
 "cells": [
  {
   "cell_type": "markdown",
   "metadata": {},
   "source": [
    "# Basic Image Composition with PIL\n",
    "The following code will compose images together randomly to generate a new synthetic dataset of images.\n",
    "\n",
    "**IMPORTANT:**\n",
    "- Foregrounds should be .png format, each with a single isolated object and transparent background.\n",
    "- Backgrounds may be .jpg or .png format and should be larger than the foregrounds.\n",
    "\n",
    "--------------------------------------------\n",
    "Requirements:\n",
    "- Python 3\n",
    "- Jupyter Notebook (http://jupyter.readthedocs.io/en/latest/install.html)\n",
    "- Pillow (pip install pillow)\n",
    "- numpy (pip install numpy)\n",
    "\n",
    "Notes:\n",
    "- Examples are given for rotation and scaling, but you could also change brightness, perspective, blur, etc.\n",
    "- Basic assert statements are included to help with simple errors, but they are not exhaustive"
   ]
  },
  {
   "cell_type": "markdown",
   "metadata": {},
   "source": [
    "## Cutting background\n",
    "\n",
    "Before drawing the foreground onto the background, we cut the background into a rectangle as in most DL- versions, rectangle images are used.\n",
    "\n",
    "First cut the background images to e.g., 1200x1200 which is bigger than your foreground images (e.g., 512x320).\n",
    "\n",
    "Then compose the image and later shrink the images e.g., in the data input procedure to the final size (e.g., 512x512, or 224x224, ...)"
   ]
  },
  {
   "cell_type": "code",
   "execution_count": 1,
   "metadata": {},
   "outputs": [],
   "source": [
    "from PIL import Image\n",
    "from multiprocessing import Pool\n",
    "import os"
   ]
  },
  {
   "cell_type": "code",
   "execution_count": 3,
   "metadata": {},
   "outputs": [],
   "source": [
    "dataset_dir='E:/Image_composition/'\n",
    "background_origin_dir=os.path.join(dataset_dir, 'backgrounds_large/')\n",
    "foregrounds_dir=os.path.join(dataset_dir, 'foregrounds/')\n",
    "backgrounds_dir=os.path.join(dataset_dir, 'backgrounds/')\n",
    "\n",
    "savedir=backgrounds_dir"
   ]
  },
  {
   "cell_type": "code",
   "execution_count": 4,
   "metadata": {},
   "outputs": [],
   "source": [
    "removing=1\n",
    "\n",
    "\n",
    "basewidth = 1024 #256\n",
    "\n",
    "if not os.path.exists(background_dir): #Create the path if it does not exist\n",
    "    os.makedirs(background_dir)\n",
    "    \n",
    "listing = os.listdir(background_origin_dir)  \n",
    "listing2 = os.listdir(background_dir)  \n",
    "\n",
    "if removing:\n",
    "    for file in listing2:\n",
    "        os.remove(background_dir + file)\n",
    "\n",
    "for file in listing:\n",
    "    img = Image.open(background_origin_dir + file)\n",
    "    #the next three lines resize the image keeping the aspect ratio. outcomment them if you want specific ratio like a rectangle\n",
    "    #wpercent = (basewidth / float(img.size[0]))\n",
    "    #hsize = int((float(img.size[1]) * float(wpercent)))\n",
    "    #img = img.resize((basewidth, hsize), Image.ANTIALIAS)\n",
    "    img = img.resize((basewidth, basewidth), Image.ANTIALIAS)\n",
    "\n",
    "    img.save(background_dir + file, \"JPEG\")\n"
   ]
  },
  {
   "cell_type": "markdown",
   "metadata": {},
   "source": [
    "## compose_images()\n",
    "- Takes in a foreground image path and a background image path\n",
    "- Randomly rotates and scales the foreground\n",
    "- Pastes the foreground on the background\n",
    "- Creates a bit-mask image\n",
    "- Calculates a bounding box\n",
    "- Returns the image, mask, and bounding box"
   ]
  },
  {
   "cell_type": "code",
   "execution_count": 5,
   "metadata": {},
   "outputs": [],
   "source": [
    "import os\n",
    "import random\n",
    "import numpy as np\n",
    "import errno\n",
    "import csv\n"
   ]
  },
  {
   "cell_type": "code",
   "execution_count": 12,
   "metadata": {},
   "outputs": [],
   "source": [
    "def compose_images(foreground_path, background_path):\n",
    "    # Make sure the foreground path is valid and open the image\n",
    "    assert os.path.exists(foreground_path), 'image path does not exist: {}'.format(foreground_path)\n",
    "    assert os.path.splitext(foreground_path)[1].lower() == '.png', 'foreground must be a .png file'\n",
    "    foreground = Image.open(foreground_path)\n",
    "    foreground_alpha = np.array(foreground.getchannel(3))\n",
    "    assert np.any(foreground_alpha == 0), 'foreground needs to have some transparency: {}'.format(foreground_path)\n",
    "    \n",
    "    # Make sure the background path is valid and open the image\n",
    "    assert os.path.exists(background_path), 'image path does not exist: {}'.format(background_path)\n",
    "    assert os.path.splitext(background_path)[1].lower() in ['.png', '.jpg', 'jpeg'], \\\n",
    "        'foreground must be a .png or .jpg file: {}'.format(foreground_path)\n",
    "    background = Image.open(background_path)\n",
    "    background = background.convert('RGBA')\n",
    "    \n",
    "    # Rotate the foreground\n",
    "    angle_degrees = random.randint(0, 359)\n",
    "    foreground = foreground.rotate(angle_degrees, resample=Image.BICUBIC, expand=True)\n",
    "    \n",
    "    # Scale the foreground\n",
    "    scale = random.random() * .9 + .6 # Pick something between .5 and 1\n",
    "    new_size = (int(foreground.size[0] * scale), int(foreground.size[1] * scale))\n",
    "    foreground = foreground.resize(new_size, resample=Image.BICUBIC)\n",
    "    \n",
    "    # Add any other transformations here...\n",
    "    \n",
    "    # Choose a random x,y position for the foreground\n",
    "    max_xy_position = (background.size[0] - foreground.size[0], background.size[1] - foreground.size[1])\n",
    "    assert max_xy_position[0] >= 0 and max_xy_position[1] >= 0, \\\n",
    "        'foreground {} is to big for the background {}'.format(foreground_path, background_path)\n",
    "    paste_position = (random.randint(0, max_xy_position[0]), random.randint(0, max_xy_position[1]))\n",
    "    \n",
    "    # Create a new foreground image as large as the background and paste it on top\n",
    "    new_foreground = Image.new('RGBA', background.size, color = (0, 0, 0, 0))\n",
    "    new_foreground.paste(foreground, paste_position)\n",
    "        \n",
    "    # Extract the alpha channel from the foreground and paste it into a new image the size of the background\n",
    "    alpha_mask = foreground.getchannel(3)\n",
    "    new_alpha_mask = Image.new('L', background.size, color=0)\n",
    "    new_alpha_mask.paste(alpha_mask, paste_position)\n",
    "    composite = Image.composite(new_foreground, background, new_alpha_mask)\n",
    "    \n",
    "    # Grab the alpha pixels above a specified threshold\n",
    "    alpha_threshold = 200\n",
    "    mask_arr = np.array(np.greater(np.array(new_alpha_mask), alpha_threshold), dtype=np.uint8)\n",
    "    hard_mask = Image.fromarray(np.uint8(mask_arr) * 255, 'L')\n",
    "    \n",
    "    # Get the smallest & largest non-zero values in each dimension and calculate the bounding box\n",
    "    nz = np.nonzero(hard_mask)\n",
    "    bbox = [np.min(nz[0]), np.min(nz[1]), np.max(nz[0]), np.max(nz[1])] \n",
    "\n",
    "    return composite, hard_mask, bbox\n",
    "    "
   ]
  },
  {
   "cell_type": "markdown",
   "metadata": {},
   "source": [
    "## Generate Images\n",
    "- Get the image paths\n",
    "- Create an output directory\n",
    "- Generate new images\n",
    "- Create a .csv definition file for the annotations"
   ]
  },
  {
   "cell_type": "code",
   "execution_count": 23,
   "metadata": {},
   "outputs": [],
   "source": [
    "dataset_dir='E:/Image_composition/'\n",
    "backgrounds = [os.path.join(backgrounds_dir, file_name) for file_name in os.listdir(backgrounds_dir)]\n",
    "foregrounds = [os.path.join(foregrounds_dir, file_name) for file_name in os.listdir(foregrounds_dir)]\n",
    "\n",
    "annotations=0\n",
    "\n",
    "\n",
    "# Create an output directory\n",
    "output_dir=os.path.join(dataset_dir, 'generated/')\n",
    "\n",
    "try:\n",
    "    os.mkdir(output_dir)\n",
    "except OSError as exc:\n",
    "    if exc.errno != errno.EEXIST:\n",
    "        raise\n",
    "    pass\n",
    "\n",
    "# Create a list to keep track of images and mask annotations\n",
    "csv_lines = []\n",
    "\n",
    "# Generate 5 new images\n",
    "for i in range(500):\n",
    "    foreground_path = random.choice(foregrounds)\n",
    "    background_path = random.choice(backgrounds)\n",
    "    composite, mask, bbox = compose_images(foreground_path, background_path)      \n",
    "   \n",
    "    composite_path = os.path.join(output_dir, 'image_{0:04d}.png'.format(i))\n",
    "    composite.save(composite_path)\n",
    "    \n",
    "    if annotations:\n",
    "        mask_path = os.path.join(output_dir, 'mask_{0:04d}.png'.format(i))\n",
    "        mask.save(mask_path)\n",
    "    \n",
    "        csv_lines.append([composite_path, bbox, mask_path])\n",
    "\n",
    "if annotations:\n",
    "    # Output the annotations csv\n",
    "    annotations_csv_path = os.path.join(output_dir, 'annotations.csv')\n",
    "    with open(annotations_csv_path, 'w', newline='') as csvfile:\n",
    "        writer = csv.writer(csvfile, delimiter=',', quotechar='|', quoting=csv.QUOTE_MINIMAL)\n",
    "        for csv_line in csv_lines:\n",
    "            writer.writerow(csv_line)\n",
    "    "
   ]
  },
  {
   "cell_type": "markdown",
   "metadata": {},
   "source": [
    "## Resize to final size"
   ]
  },
  {
   "cell_type": "code",
   "execution_count": 34,
   "metadata": {},
   "outputs": [],
   "source": [
    "removing=1\n",
    "\n",
    "basewidth = 512 #256\n",
    "#background_dir='E:/Image_composition/generated/\n",
    "background_dir= 'E:/fotos/haende/Faust - Kopie/' \n",
    "listing = os.listdir(background_dir)  \n",
    "\n",
    "\n",
    "for file in listing:\n",
    "    img = Image.open(background_dir + file)\n",
    "    #the next three lines resize the image keeping the aspect ratio. outcomment them if you want specific ratio like a rectangle\n",
    "    #wpercent = (basewidth / float(img.size[0]))\n",
    "    #hsize = int((float(img.size[1]) * float(wpercent)))\n",
    "    #img = img.resize((basewidth, hsize), Image.ANTIALIAS)\n",
    "    img = img.resize((basewidth, basewidth), Image.ANTIALIAS)\n",
    "\n",
    "    img.save(background_dir + 'c' + file, \"PNG\")\n",
    "    \n",
    "if removing:\n",
    "    for file in listing:\n",
    "        os.remove(background_dir + file)    "
   ]
  }
 ],
 "metadata": {
  "kernelspec": {
   "display_name": "Python 3",
   "language": "python",
   "name": "python3"
  },
  "language_info": {
   "codemirror_mode": {
    "name": "ipython",
    "version": 3
   },
   "file_extension": ".py",
   "mimetype": "text/x-python",
   "name": "python",
   "nbconvert_exporter": "python",
   "pygments_lexer": "ipython3",
   "version": "3.7.3"
  },
  "toc": {
   "base_numbering": 1,
   "nav_menu": {},
   "number_sections": true,
   "sideBar": true,
   "skip_h1_title": false,
   "title_cell": "Table of Contents",
   "title_sidebar": "Contents",
   "toc_cell": false,
   "toc_position": {},
   "toc_section_display": true,
   "toc_window_display": false
  },
  "varInspector": {
   "cols": {
    "lenName": 16,
    "lenType": 16,
    "lenVar": 40
   },
   "kernels_config": {
    "python": {
     "delete_cmd_postfix": "",
     "delete_cmd_prefix": "del ",
     "library": "var_list.py",
     "varRefreshCmd": "print(var_dic_list())"
    },
    "r": {
     "delete_cmd_postfix": ") ",
     "delete_cmd_prefix": "rm(",
     "library": "var_list.r",
     "varRefreshCmd": "cat(var_dic_list()) "
    }
   },
   "position": {
    "height": "588.85px",
    "left": "1605.2px",
    "right": "3.2px",
    "top": "126px",
    "width": "505.8px"
   },
   "types_to_exclude": [
    "module",
    "function",
    "builtin_function_or_method",
    "instance",
    "_Feature"
   ],
   "window_display": false
  }
 },
 "nbformat": 4,
 "nbformat_minor": 2
}
